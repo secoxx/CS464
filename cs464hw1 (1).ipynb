{
  "nbformat": 4,
  "nbformat_minor": 0,
  "metadata": {
    "colab": {
      "provenance": []
    },
    "kernelspec": {
      "name": "python3",
      "display_name": "Python 3"
    },
    "language_info": {
      "name": "python"
    }
  },
  "cells": [
    {
      "cell_type": "code",
      "execution_count": null,
      "metadata": {
        "colab": {
          "base_uri": "https://localhost:8080/"
        },
        "id": "sXs8KsiV8ypQ",
        "outputId": "461a588d-2087-446e-bbdf-08901b8bef65"
      },
      "outputs": [
        {
          "output_type": "stream",
          "name": "stdout",
          "text": [
            "Drive already mounted at /content/drive/; to attempt to forcibly remount, call drive.mount(\"/content/drive/\", force_remount=True).\n",
            "/content/drive/My Drive/cshw1\n",
            "      the  to  ect  and  for  of    a  you  hou  in  ...  enhancements  \\\n",
            "0       2   5    2    0    2   0   24    1    0   4  ...             0   \n",
            "1      18  15    2    1    4  14  120    5    0  15  ...             0   \n",
            "2       2   0    1    1    2   2   12    2    0   3  ...             0   \n",
            "3      26  31    2   13   12  23  222    1    0  65  ...             0   \n",
            "4       1   1    1    2    0   0   10    0    0   1  ...             0   \n",
            "...   ...  ..  ...  ...  ...  ..  ...  ...  ...  ..  ...           ...   \n",
            "4132    2  10    6    1    1   0   46    0    4   5  ...             0   \n",
            "4133    5   8    6    1    3   3  128    1    1  26  ...             0   \n",
            "4134    2   0    1    1    0   0    7    0    0   1  ...             0   \n",
            "4135    3   6    2    3    1   4   54    7    0  10  ...             0   \n",
            "4136    0   0    1    0    1   0    2    0    0   0  ...             0   \n",
            "\n",
            "      connevey  jay  valued  lay  infrastructure  military  allowing  ff  dry  \n",
            "0            0    0       0    0               0         0         0   0    0  \n",
            "1            0    0       0    0               0         0         0   2    0  \n",
            "2            0    0       0    0               0         0         0   1    0  \n",
            "3            0    0       0    5               0         0         0   0    0  \n",
            "4            0    0       0    0               0         0         0   0    0  \n",
            "...        ...  ...     ...  ...             ...       ...       ...  ..  ...  \n",
            "4132         0    0       0    0               0         0         0   4    0  \n",
            "4133         0    0       0    0               0         0         0   4    0  \n",
            "4134         0    0       0    0               0         0         0   0    0  \n",
            "4135         0    0       0    0               0         0         0   0    0  \n",
            "4136         0    0       0    0               0         0         0   0    0  \n",
            "\n",
            "[4137 rows x 3000 columns]\n",
            "      Prediction\n",
            "0              0\n",
            "1              0\n",
            "2              1\n",
            "3              1\n",
            "4              1\n",
            "...          ...\n",
            "4132           0\n",
            "4133           1\n",
            "4134           0\n",
            "4135           1\n",
            "4136           0\n",
            "\n",
            "[4137 rows x 1 columns]\n",
            "      the  to  ect  and  for  of   a  you  hou  in  ...  enhancements  \\\n",
            "0       1   1    1    0    1   0   6    0    0   1  ...             0   \n",
            "1       0   0    1    0    1   0   3    0    0   0  ...             0   \n",
            "2       7   4   17    3    5   3  64    1    7  12  ...             0   \n",
            "3       0   2    3    5    1   2  30    0    1   3  ...             0   \n",
            "4      10  18    3    9    2   3  60    0    0  15  ...             0   \n",
            "...   ...  ..  ...  ...  ...  ..  ..  ...  ...  ..  ...           ...   \n",
            "1030    1   5    1    1    1   2  32    3    2   4  ...             0   \n",
            "1031    3   2    1    1    1   2  15    1    0   1  ...             0   \n",
            "1032    5   2    2    3    2   1  40    5    1  10  ...             0   \n",
            "1033    2   2    2    0    1   0  22    0    0   2  ...             0   \n",
            "1034    0   0    1    0    1   0   1    1    0   0  ...             0   \n",
            "\n",
            "      connevey  jay  valued  lay  infrastructure  military  allowing  ff  dry  \n",
            "0            0    0       0    0               0         0         0   0    0  \n",
            "1            0    0       0    0               0         0         0   0    0  \n",
            "2            0    0       0    0               0         0         0   1    0  \n",
            "3            0    0       0    0               0         0         0   1    0  \n",
            "4            0    0       0    0               0         0         0   3    0  \n",
            "...        ...  ...     ...  ...             ...       ...       ...  ..  ...  \n",
            "1030         0    0       0    0               0         0         0   2    0  \n",
            "1031         0    0       0    0               0         0         0   0    0  \n",
            "1032         0    0       0    0               0         0         0   0    0  \n",
            "1033         0    0       0    0               0         0         0   0    0  \n",
            "1034         0    0       0    0               0         0         0   0    0  \n",
            "\n",
            "[1035 rows x 3000 columns]\n",
            "      Prediction\n",
            "0              0\n",
            "1              0\n",
            "2              0\n",
            "3              1\n",
            "4              0\n",
            "...          ...\n",
            "1030           1\n",
            "1031           0\n",
            "1032           1\n",
            "1033           0\n",
            "1034           1\n",
            "\n",
            "[1035 rows x 1 columns]\n"
          ]
        }
      ],
      "source": [
        "import pandas as pd\n",
        "import numpy as np\n",
        "from google.colab import drive\n",
        "drive.mount('/content/drive/')\n",
        "# Load the data, and separate the target\n",
        "%cd /content/drive/My Drive/cshw1/\n",
        "dx = pd.read_csv('x_train.csv')\n",
        "print(dx)\n",
        "dy = pd.read_csv('y_train.csv')\n",
        "print(dy)\n",
        "dxtest = pd.read_csv('x_test.csv')\n",
        "print(dxtest)\n",
        "dytest = pd.read_csv('y_test.csv')\n",
        "print(dytest)"
      ]
    },
    {
      "cell_type": "code",
      "source": [
        "features = list(dx.columns)\n",
        "print(features)"
      ],
      "metadata": {
        "colab": {
          "base_uri": "https://localhost:8080/"
        },
        "id": "BPgb8S49AV12",
        "outputId": "83041d85-d1d9-4758-e0b6-e7e3cbb99e7d"
      },
      "execution_count": null,
      "outputs": [
        {
          "output_type": "stream",
          "name": "stdout",
          "text": [
            "['the', 'to', 'ect', 'and', 'for', 'of', 'a', 'you', 'hou', 'in', 'on', 'is', 'this', 'enron', 'i', 'be', 'that', 'will', 'have', 'with', 'your', 'at', 'we', 's', 'are', 'it', 'by', 'com', 'as', 'from', 'gas', 'or', 'not', 'me', 'deal', 'if', 'meter', 'hpl', 'please', 're', 'e', 'any', 'our', 'corp', 'can', 'd', 'all', 'has', 'was', 'know', 'need', 'an', 'forwarded', 'new', 't', 'may', 'up', 'j', 'mmbtu', 'should', 'do', 'am', 'get', 'out', 'see', 'no', 'there', 'price', 'daren', 'but', 'been', 'company', 'l', 'these', 'let', 'so', 'would', 'm', 'into', 'xls', 'farmer', 'attached', 'us', 'information', 'they', 'message', 'day', 'time', 'my', 'one', 'what', 'only', 'http', 'th', 'volume', 'mail', 'contract', 'which', 'month', 'more', 'robert', 'sitara', 'about', 'texas', 'nom', 'energy', 'pec', 'questions', 'www', 'deals', 'volumes', 'pm', 'ena', 'now', 'their', 'file', 'some', 'email', 'just', 'also', 'call', 'change', 'other', 'here', 'like', 'b', 'flow', 'net', 'following', 'p', 'production', 'when', 'over', 'back', 'want', 'original', 'them', 'below', 'o', 'ticket', 'c', 'he', 'could', 'make', 'inc', 'report', 'march', 'contact', 'were', 'days', 'list', 'nomination', 'system', 'who', 'april', 'number', 'sale', 'don', 'its', 'first', 'thanks', 'business', 'help', 'per', 'through', 'july', 'forward', 'font', 'free', 'daily', 'use', 'order', 'today', 'r', 'had', 'fw', 'set', 'plant', 'statements', 'go', 'gary', 'oil', 'line', 'sales', 'w', 'effective', 'well', 'tenaska', 'take', 'june', 'x', 'within', 'nbsp', 'she', 'how', 'north', 'america', 'being', 'under', 'next', 'week', 'than', 'january', 'last', 'two', 'service', 'purchase', 'name', 'less', 'height', 'off', 'agreement', 'k', 'work', 'tap', 'group', 'year', 'based', 'transport', 'after', 'think', 'made', 'each', 'available', 'changes', 'due', 'f', 'h', 'services', 'smith', 'send', 'management', 'stock', 'sent', 'll', 'co', 'office', 'needs', 'cotten', 'did', 'actuals', 'u', 'money', 'before', 'looking', 'then', 'pills', 'online', 'request', 'look', 'desk', 'ami', 'his', 'same', 'george', 'chokshi', 'point', 'delivery', 'friday', 'does', 'size', 'august', 'product', 'pat', 'width', 'iv', 'noms', 'address', 'above', 'sure', 'give', 'october', 'future', 'find', 'market', 'n', 'mary', 'vance', 'melissa', 'said', 'internet', 'still', 'account', 'those', 'down', 'link', 'hsc', 'rate', 'people', 'pipeline', 'best', 'actual', 'very', 'end', 'home', 'houston', 'tu', 'high', 'her', 'team', 'products', 'many', 'currently', 'spot', 'receive', 'good', 'such', 'going', 'process', 'feb', 'monday', 'info', 'david', 'lloyd', 'again', 'both', 'click', 'subject', 'jackie', 'december', 'total', 'na', 'lisa', 've', 'september', 'hours', 'until', 'resources', 'because', 'aol', 'february', 'where', 'g', 'investment', 'issue', 'duke', 'since', 'pay', 'show', 'way', 'global', 'computron', 'further', 'most', 'place', 'offer', 'natural', 'activity', 'eastrans', 'graves', 'right', 'prices', 'date', 'john', 'utilities', 'november', 'clynes', 'jan', 'securities', 'meeting', 'susan', 'hplc', 'julie', 'able', 'received', 'align', 'term', 'id', 'revised', 'thursday', 'pg', 'fee', 'hplno', 'trading', 'additional', 'site', 'txu', 'data', 'wellhead', 'reply', 'taylor', 'news', 'unify', 'michael', 'provide', 'note', 'much', 'access', 'lannou', 'every', 'between', 'keep', 'tuesday', 'review', 'great', 'tom', 'put', 'done', 'long', 'save', 'section', 'must', 'v', 'part', 'nd', 'million', 'check', 'trade', 'bob', 'created', 'steve', 'prior', 'copy', 'continue', 'numbers', 'via', 'world', 'demand', 'hanks', 'contracts', 'phone', 'transaction', 'customer', 'possible', 'pefs', 'meyers', 'months', 'special', 'without', 'used', 'regarding', 'software', 'howard', 'support', 'buy', 'young', 'meters', 'thru', 'believe', 'gcs', 'cec', 'entered', 'control', 'dec', 'face', 'create', 'weissman', 'st', 'color', 'come', 'supply', 'brian', 'hplo', 'own', 'correct', 'customers', 'web', 'allocation', 'soon', 'using', 'development', 'mark', 'low', 'power', 'problem', 'once', 'however', 'tickets', 'border', 'performance', 'manager', 'rates', 'center', 'companies', 'risk', 'details', 'needed', 'international', 'field', 'even', 'someone', 'doc', 'fuel', 'lee', 'paid', 'while', 'start', 'index', 'include', 'nominations', 'act', 'pricing', 'scheduled', 'gathering', 'type', 'href', 'during', 'aimee', 'anything', 'feel', 'fuels', 'getting', 'advice', 'why', 'increase', 'path', 'sell', 'works', 'issues', 'three', 'enronxgate', 'camp', 'either', 'form', 'security', 'interest', 'financial', 'family', 'xp', 'plan', 'current', 'top', 'another', 'src', 'spreadsheet', 'allen', 'wednesday', 'read', 'him', 'working', 'wynne', 'add', 'deliveries', 'buyback', 'allocated', 'firm', 'james', 'marketing', 'tx', 'results', 'got', 'stocks', 'calpine', 'might', 'operations', 'position', 'logistics', 'fax', 'cost', 'party', 'zero', 'pops', 'old', 'pt', 'scheduling', 'flowed', 'dollars', 'update', 'gco', 'katy', 'including', 'follow', 'yahoo', 'already', 'suite', 'error', 'past', 'page', 'stop', 'changed', 'book', 'program', 'few', 'better', 'operating', 'equistar', 'move', 'cotton', 'aep', 'y', 'state', 'ees', 'rita', 'provided', 'employees', 'period', 'morning', 'cd', 'hotmail', 'entex', 'swing', 'real', 'exchange', 'tomorrow', 'lst', 'counterparty', 'parker', 'person', 'follows', 'valid', 'visit', 'little', 'professional', 'quality', 'confirm', 'something', 'megan', 'brenda', 'around', 'windows', 'im', 'storage', 'accounting', 'called', 'ranch', 'tax', 'problems', 'case', 'teco', 'fact', 'always', 'too', 'unsubscribe', 'amount', 'coastal', 'never', 'rodriguez', 'love', 'acton', 'shut', 'pipe', 'project', 'hope', 'limited', 'invoice', 'credit', 'full', 'survey', 'ray', 'carlos', 'anyone', 'wanted', 'yet', 'ic', 'scott', 'years', 'charlie', 'soft', 'notice', 'advise', 'addition', 'donald', 'lsk', 'wish', 'katherine', 'website', 'hplnl', 'schumack', 'prescription', 'cover', 'shares', 'cash', 'imbalance', 'united', 'handle', 'big', 'everyone', 'style', 'clear', 'producer', 'weekend', 'city', 'requested', 'stone', 'left', 'payment', 'mobil', 'shows', 'small', 'confirmed', 'technology', 'meet', 'extend', 'life', 'intended', 'sherlyn', 'schedule', 'else', 'letter', 'box', 'bill', 'richard', 'lamphier', 'complete', 'ever', 'release', 'newsletter', 'anita', 'clem', 'having', 'herod', 'beginning', 'papayoti', 'try', 'mike', 'enter', 'estimates', 'location', 'cut', 'question', 'things', 'personal', 'feedback', 'cialis', 'found', 'area', 'dow', 'terms', 'central', 'necessary', 'man', 'run', 'reason', 'third', 'midcon', 'charge', 'president', 'de', 'listed', 'meds', 'thomas', 'thought', 'capital', 'added', 'ask', 'weeks', 'investing', 'commercial', 'star', 'several', 'easy', 'view', 'cannot', 'extended', 'lauri', 'beaumont', 'union', 'times', 'open', 'cause', 'monthly', 'action', 'offers', 'industry', 'states', 'side', 'mailto', 'probably', 'neal', 'second', 'stephanie', 'download', 'flash', 'agree', 'mcf', 'transfer', 'doing', 'important', 'basis', 'different', 'final', 'koch', 'exxon', 'remove', 'microsoft', 'interested', 'application', 'sept', 'mg', 'write', 'lp', 'east', 'requirements', 'code', 'value', 'thank', 'together', 'exploration', 'mid', 'dfarmer', 'everything', 'receipt', 'thu', 'afternoon', 'late', 'enserch', 'coming', 'bank', 'response', 'tell', 'shipping', 'night', 'events', 'cynthia', 'lsp', 'close', 'legal', 'country', 'direct', 'expected', 'ces', 'corporation', 'options', 'really', 'voip', 'nominated', 'etc', 'latest', 'potential', 'priced', 'edward', 'valero', 'material', 'stack', 'victor', 'redeliveries', 'loss', 'remember', 'baumbach', 'option', 'private', 'longer', 'aware', 'included', 'drugs', 'public', 'reinhardt', 'version', 'hesse', 'discuss', 'related', 'asked', 'say', 'viagra', 'revision', 'bgcolor', 'kind', 'pro', 'completed', 'health', 'ready', 'plans', 'registered', 'regards', 'carthage', 'zone', 'fill', 'away', 'computer', 'systems', 'industrial', 'mentioned', 'told', 'therefore', 'growth', 'sold', 'track', 'reports', 'south', 'rd', 'jim', 'costs', 'image', 'expect', 'return', 'physical', 'el', 'browser', 'donna', 'stacey', 'begin', 'china', 'duty', 'approximately', 'showing', 'unit', 'jones', 'hard', 'verify', 'updated', 'eol', 'cs', 'orders', 'talk', 'trying', 'base', 'given', 'server', 'source', 'pathed', 'strong', 'bryan', 'directly', 'risks', 'whole', 'major', 'users', 'purchases', 'oo', 'karen', 'luong', 'level', 'required', 'delivered', 'portfolio', 'riley', 'ali', 'easttexas', 'poorman', 'bellamy', 'assistance', 'nothing', 'gif', 'thing', 'retail', 'didn', 'valley', 'department', 'cleburne', 'allow', 'gpgfin', 'answer', 'items', 'paste', 'avila', 'taken', 'mm', 'nguyen', 'ensure', 'reference', 'hall', 'later', 'lone', 'user', 'methanol', 'facility', 'network', 'spoke', 'though', 'tabs', 'taking', 'status', 'considered', 'purchased', 'says', 'yourself', 'paliourg', 'dy', 'jeff', 'businesses', 'fred', 'transportation', 'apache', 'morris', 'nov', 'ltd', 'brand', 'federal', 'statement', 'oasis', 'reflect', 'assets', 'lamadrid', 'general', 'bridge', 'ability', 'oct', 'play', 'enrononline', 'compliance', 'spam', 'availability', 'king', 'understanding', 'chance', 'quick', 'effort', 'points', 'reliantenergy', 'fixed', 'short', 'hill', 'cheryl', 'aepin', 'key', 'understand', 'valign', 'capacity', 'game', 'took', 'bring', 'guys', 'god', 'green', 'care', 'withers', 'property', 'hub', 'johnson', 'employee', 'wants', 'albrecht', 'meaning', 'expectations', 'mx', 'moved', 'cernosek', 'matter', 'devon', 'calls', 'worldwide', 'records', 'removed', 'lose', 'large', 'referenced', 'walker', 'iferc', 'enw', 'ponton', 'eileen', 'ship', 'upon', 'enerfin', 'jennifer', 'looks', 'staff', 'pc', 'target', 'waha', 'making', 'cp', 'impact', 'partner', 'immediately', 'shall', 'channel', 'takes', 'sat', 'others', 'hear', 'went', 'travel', 'listing', 'approved', 'processing', 'early', 'enough', 'sally', 'starting', 'distribution', 'tejas', 'transactions', 'stay', 'earl', 'superty', 'doesn', 'reserves', 'includes', 'choose', 'adobe', 'publisher', 'paso', 'cornhusker', 'training', 'markets', 'content', 'solution', 'shell', 'jpg', 'print', 'drive', 'pain', 'password', 'half', 'herrera', 'saturday', 'moopid', 'hotlist', 'balance', 'super', 'vacation', 'sex', 'happy', 'excess', 'existing', 'fund', 'stella', 'share', 'sign', 'wells', 'won', 'four', 'text', 'card', 'tisdale', 'fwd', 'appreciate', 'non', 'experience', 'savings', 'settlements', 'draft', 'couple', 'informed', 'biz', 'watch', 'plus', 'sun', 'expense', 'images', 'land', 'occur', 'flowing', 'mar', 'terry', 'darren', 'cheap', 'weight', 'dynegy', 'activities', 'become', 'mr', 'format', 'attention', 'entire', 'photoshop', 'williams', 'instructions', 'neon', 'janet', 'contains', 'ago', 'friends', 'against', 'boas', 'music', 'certain', 'liz', 'svcs', 'record', 'fast', 'dave', 'held', 'mind', 'ua', 'publication', 'differ', 'comments', 'fun', 'rest', 'instant', 'agent', 'communications', 'director', 'partners', 'investors', 'expedia', 'kevin', 'assist', 'safe', 'approval', 'allocate', 'black', 'none', 'intrastate', 'document', 'eric', 'hakemack', 'expired', 'lower', 'active', 'secure', 'cc', 'five', 'determine', 'press', 'colspan', 'missing', 'jill', 'discussion', 'relief', 'respect', 'specific', 'technologies', 'al', 'holmes', 'white', 'yesterday', 'medical', 'pinion', 'sorry', 'men', 'leave', 'pass', 'video', 'gomes', 'doctor', 'projects', 'limit', 'air', 'knle', 'pharmacy', 'confirmation', 'opportunity', 'involve', 'notify', 'gtc', 'class', 'ken', 'started', 'outage', 'confidential', 'room', 'blue', 'estimated', 'officer', 'reach', 'messages', 'database', 'words', 'prc', 'tracked', 'transition', 'light', 'national', 'hot', 'offering', 'gulf', 'provides', 'iit', 'demokritos', 'mckay', 'average', 'wide', 'heard', 'files', 'dan', 'billed', 'mccoy', 'rc', 'exactly', 'middle', 'select', 'bruce', 'louisiana', 'receiving', 'california', 'event', 'roll', 'mops', 'william', 'appear', 'perfect', 'html', 'features', 'join', 'greater', 'sunday', 'pick', 'featured', 'cdnow', 'prize', 'reveffo', 'olsen', 'expects', 'estimate', 'near', 'common', 'package', 'title', 'whether', 'bought', 'evergreen', 'difference', 'elizabeth', 'history', 'monitor', 'advised', 'result', 'sources', 'school', 'unaccounted', 'paragraph', 'turn', 'kimberly', 'increased', 'communication', 'members', 'concerns', 'uncertainties', 'associated', 'reduce', 'committed', 'wi', 'asap', 'goes', 'trader', 'waiting', 'canada', 'worth', 'representative', 'claim', 'ceo', 'london', 'discussions', 'php', 'brazos', 'trevino', 'calling', 'involved', 'la', 'gift', 'southern', 'groups', 'hour', 'tufco', 'previously', 'voice', 'normally', 'resolve', 'efforts', 'nor', 'recent', 'purchasing', 'county', 'ok', 'express', 'generic', 'according', 'respond', 'situation', 'hold', 'lot', 'interconnect', 'word', 'came', 'west', 'role', 'opportunities', 'corporate', 'remain', 'similar', 'readers', 'suggestions', 'subscribers', 'projections', 'lead', 'learn', 'resolved', 'agreed', 'sec', 'head', 'enjoy', 'img', 'rnd', 'responsible', 'outstanding', 'member', 'panenergy', 'american', 'cass', 'register', 'promotions', 'parties', 'winfree', 'selling', 'usage', 'appropriate', 'assignment', 'media', 'believes', 'require', 'submit', 'model', 'spinnaker', 'copano', 'facilities', 'opinion', 'factors', 'identified', 'beverly', 'ews', 'gdp', 'deliver', 'job', 'profile', 'across', 'neuweiler', 'suggest', 'girls', 'manage', 'usa', 'local', 'bad', 'greg', 'vs', 'fees', 'digital', 'cf', 'strangers', 'registration', 'delta', 'rolex', 'goliad', 'hesco', 'success', 'primary', 'quarter', 'course', 'chairman', 'petroleum', 'notes', 'medications', 'ei', 'instead', 'fine', 'lake', 'pre', 'force', 'seek', 'recipient', 'gain', 'placed', 'age', 'least', 'body', 'asking', 'discussed', 'hanson', 'emails', 'nominate', 'ext', 'known', 'ones', 'ed', 'assigned', 'htmlimg', 'means', 'present', 'various', 'invoices', 'gd', 'agency', 'along', 'located', 'reflects', 'solutions', 'ex', 'house', 'cds', 'br', 'owner', 'apr', 'sullivan', 'basin', 'linda', 'worked', 'car', 'seen', 'properties', 'booked', 'higher', 'store', 'est', 'revenue', 'wait', 'women', 'far', 'met', 'wholesale', 'range', 'kcs', 'recorded', 'brown', 'lots', 'match', 'input', 'grant', 'providing', 'huge', 'investor', 'kelly', 'apply', 'paths', 'handling', 'pipes', 'advantage', 'analysis', 'focus', 'draw', 'red', 'origination', 'connection', 'planning', 'wilson', 'golf', 'summary', 'item', 'bankruptcy', 'expenses', 'pgev', 'encina', 'beaty', 'memo', 'initial', 'thousand', 'mills', 'penis', 'friend', 'conversation', 'multiple', 'martin', 'names', 'bit', 'dth', 'talked', 'behalf', 'preliminary', 'button', 'herein', 'gisb', 'coupon', 'sa', 'oi', 'appears', 'door', 'texaco', 'csikos', 'arrangements', 'cpr', 'expires', 'popular', 'sending', 'research', 'conditions', 'gb', 'board', 'ca', 'applications', 'tried', 'paying', 'acquisition', 'reporting', 'normal', 'maintenance', 'resume', 'announced', 'attachment', 'buyer', 'objectives', 'prod', 'represent', 'sandi', 'hplnol', 'government', 'committee', 'running', 'tetco', 'discount', 'jo', 'holding', 'earlier', 'positions', 'happen', 'mailing', 'decided', 'recently', 'chris', 'xanax', 'valium', 'broadband', 'individual', 'station', 'td', 'financing', 'somehow', 'pena', 'critical', 'attend', 'kristen', 'inform', 'highly', 'hl', 'phillips', 'minutes', 'titles', 'affiliate', 'wife', 'lonestar', 'charlotte', 'quickly', 'paper', 'test', 'comes', 'mobile', 'internal', 'privacy', 'ideas', 'live', 'gotten', 'floor', 'benefit', 'percent', 'ms', 'dr', 'ebs', 'msn', 'gave', 'dallas', 'enterprise', 'rx', 'spring', 'ftar', 'ooking', 'hawkins', 'exclusive', 'selected', 'baxter', 'actually', 'single', 'shop', 'nominates', 'guarantee', 'minute', 'correctly', 'unique', 'bid', 'building', 'stated', 'accept', 'assumptions', 'centana', 'senior', 'pill', 'kinsey', 'sap', 'immediate', 'goals', 'category', 'mitchell', 'acceptance', 'termination', 'sweeney', 'facts', 'amazon', 'arrangement', 'josey', 'funds', 'among', 'accuracy', 'mean', 'rather', 'kim', 'egmnom', 'indicate', 'updates', 'extra', 'adjustment', 'accounts', 'lowest', 'gold', 'purposes', 'remaining', 'talking', 'entry', 'road', 'load', 'simply', 'europe', 'lindley', 'understood', 'logos', 'hi', 'speed', 'profit', 'notified', 'jackson', 'z', 'vols', 'serve', 'additionally', 'shipped', 'connor', 'fontfont', 'q', 'kept', 'dollar', 'jr', 'almost', 'fri', 'paul', 'documents', 'analyst', 'crude', 'cap', 'shopping', 'aug', 'clearance', 'schneider', 'ftworth', 'father', 'anticipated', 'resellers', 'congress', 'counterparties', 'epgt', 'buying', 'san', 'invest', 'cartwheel', 'brandywine', 'wrong', 'mtbe', 'split', 'submitted', 'hull', 'gra', 'children', 'leader', 'true', 'baseload', 'mb', 'letters', 'billion', 'rights', 'mtr', 'heidi', 'clean', 'historical', 'asset', 'foreign', 'gr', 'entity', 'developed', 'maybe', 'jeffrey', 'transmission', 'outside', 'lost', 'membership', 'invitation', 'ocean', 'legislation', 'hernandez', 'pep', 'payments', 'wallis', 'rev', 'kenneth', 'seaman', 'annual', 'guess', 'bammel', 'lines', 'guadalupe', 'zivley', 'exception', 'example', 'pathing', 'revisions', 'pipelines', 'equity', 'budget', 'wed', 'dealers', 'window', 'juno', 'claims', 'bottom', 'standard', 'alternative', 'merchant', 'braband', 'topica', 'telephone', 'reliant', 'speculative', 'yes', 'en', 'morgan', 'cable', 'edmondson', 'participate', 'usb', 'throughout', 'checked', 'myself', 'contents', 'fat', 'investments', 'six', 'build', 'giving', 'calendar', 'inherent', 'edition', 'darial', 'hr', 'trip', 'pull', 'moving', 'concern', 'proposed', 'rm', 'deer', 'enquiries', 'alt', 'tammy', 'front', 'reduction', 'evening', 'concerning', 'gets', 'effect', 'isn', 'haven', 'cowboy', 'sea', 'dvd', 'launch', 'minimum', 'changing', 'built', 'avoid', 'chief', 'stephen', 'chad', 'manual', 'finally', 'strategy', 'executive', 'thousands', 'conflict', 'resulting', 'policy', 'commission', 'stand', 'positive', 'quantity', 'programs', 'airmail', 'texoma', 'prepared', 'austin', 'matt', 'intent', 'uae', 'citibank', 'jaquet', 'hol', 'harris', 'min', 'hplr', 'advance', 'weather', 'terminated', 'whom', 'sheet', 'venturatos', 'cellpadding', 'hotel', 'leading', 'guaranteed', 'idea', 'announce', 'pleased', 'award', 'operational', 'prepare', 'schedulers', 'child', 'sum', 'quote', 'adjusted', 'warning', 'issued', 'ga', 'cross', 'detail', 'pertaining', 'tess', 'owe', 'crow', 'availabilities', 'griffin', 'christy', 'crosstex', 'eel', 'itoy', 'heart', 'licensed', 'overnight', 'cal', 'otherwise', 'luck', 'stretch', 'generation', 'broker', 'construed', 'except', 'traders', 'carry', 'column', 'approx', 'main', 'alert', 'charges', 'step', 'revenues', 'games', 'gottlob', 'looked', 'individuals', 'beck', 'stuff', 'welcome', 'port', 'glover', 'description', 'daniel', 'quantities', 'park', 'managing', 'town', 'seller', 'summer', 'tina', 'dates', 'eff', 'dudley', 'ferc', 'robin', 'charles', 'customerservice', 'zonedubai', 'emirates', 'aeor', 'clickathome', 'materia', 'island', 'vaughn', 'sexual', 'eiben', 'forms', 'delete', 'realize', 'tailgate', 'behind', 'villarreal', 'lon', 'benoit', 'simple', 'tech', 'ahead', 'double', 'ordering', 'se', 'miss', 'law', 'eb', 'post', 'outlook', 'equipment', 'leslie', 'reeves', 'org', 'tools', 'cold', 'adjustments', 'contained', 'saw', 'edit', 'deciding', 'finance', 'patti', 'listbot', 'river', 'kathryn', 'holiday', 'successful', 'unable', 'advisor', 'pool', 'bryce', 'outages', 'adjust', 'screen', 'otc', 'brent', 'helps', 'auto', 'foot', 'region', 'links', 'contain', 'knowledge', 'yvette', 'dial', 'pressure', 'detailed', 'indicated', 'charged', 'sites', 'makes', 'female', 'mcmills', 'cook', 'mazowita', 'meredith', 'allocations', 'meetings', 'particular', 'environment', 'drug', 'search', 'mailings', 'designed', 'rock', 'measurement', 'art', 'corrected', 'kids', 'benefits', 'tv', 'seems', 'husband', 'fix', 'grow', 'decision', 'wireless', 'mo', 'conference', 'interview', 'levels', 'copies', 'cindy', 'urgent', 'regular', 'payroll', 'shown', 'consumers', 'reliable', 'tr', 'indicating', 'coast', 'greif', 'severson', 'tri', 'vicodin', 'liquids', 'significant', 'intend', 'usd', 'pager', 'avails', 'spencer', 'ce', 'charset', 'verdana', 'fully', 'flynn', 'da', 'personnel', 'multi', 'closed', 'vice', 'administration', 'gmt', 'midstream', 'eye', 'speckels', 'studio', 'cilco', 'likely', 'managers', 'structure', 'sit', 'parent', 'preparation', 'mix', 'mmbtus', 'timing', 'happening', 'lottery', 'killing', 'acquire', 'mack', 'pcx', 'fares', 'internationa', 'notification', 'swift', 'identify', 'areas', 'separate', 'unless', 'producers', 'allows', 'pretty', 'waste', 'joanie', 'drop', 'taxes', 'premium', 'teams', 'choice', 'largest', 'addressed', 'dolphin', 'ngo', 'self', 'davis', 'htm', 'ad', 'graphics', 'hit', 'competitive', 'thus', 'incorrect', 'ti', 'acts', 'previous', 'edu', 'proven', 'electric', 'pictures', 'charlene', 'benedict', 'chevron', 'treatment', 'lesson', 'player', 'sds', 'wc', 'intraday', 'assurance', 'sdsnom', 'rebecca', 'quit', 'netco', 'intra', 'whatever', 'lyondell', 'reviewed', 'solicitation', 'filings', 'log', 'noon', 'locations', 'joe', 'completely', 'rivers', 'language', 'street', 'automatically', 'ft', 'powerful', 'specials', 'alone', 'fyi', 'properly', 'proper', 'explode', 'decrease', 'medication', 'desks', 'impacted', 'anywhere', 'completion', 'banking', 'consider', 'certificate', 'exercise', 'zeroed', 'websites', 'tonight', 'diligence', 'education', 'club', 'vegas', 'affordable', 'sports', 'predictions', 'billing', 'diamond', 'posted', 'prayer', 'actions', 'nomad', 'resuits', 'jason', 'purpose', 'deposit', 'entertainment', 'materially', 'blank', 'resolution', 'anderson', 'nat', 'rom', 'soma', 'organization', 'aquila', 'solid', 'affected', 'transco', 'spend', 'responsibilities', 'assume', 'header', 'accountant', 'functionality', 'meant', 'killed', 'analysts', 'rick', 'rolled', 'noted', 'discovered', 'offices', 'torch', 'often', 'york', 'joint', 'briley', 'competition', 'guide', 'intercompany', 'son', 'settlement', 'presently', 'cart', 'tim', 'entries', 'russ', 'valadez', 'rules', 'molly', 'apple', 'atleast', 'scheduler', 'pi', 'hector', 'dell', 'opm', 'hottlist', 'yap', 'gone', 'heal', 'llc', 'setting', 'reached', 'proposal', 'hundred', 'trust', 'official', 'table', 'mcgee', 'written', 'operation', 'cellspacing', 'laptop', 'feature', 'ram', 'victoria', 'larry', 'units', 'requests', 'continued', 'external', 'pack', 'couldn', 'lateral', 'strictly', 'resource', 'although', 'sr', 'commodity', 'pulled', 'protocol', 'bed', 'generated', 'redmond', 'girl', 'apparently', 'tool', 'reviews', 'released', 'movies', 'inside', 'shareholder', 'rr', 'compensation', 'beliefs', 'foresee', 'lease', 'rule', 'marta', 'chemical', 'hillary', 'hp', 'tongue', 'adonis', 'advises', 'master', 'eight', 'wasn', 'itself', 'documentation', 'xl', 'humble', 'elsa', 'pics', 'hughes', 'brokered', 'distribute', 'consultation', 'sheri', 'lists', 'cannon', 'treated', 'factor', 'putting', 'verified', 'releases', 'enhanced', 'controls', 'craig', 'worksheet', 'conversion', 'max', 'hrs', 'helpful', 'hand', 'producing', 'dl', 'developing', 'design', 'woman', 'understands', 'standards', 'promotion', 'sarco', 'hospital', 'ffffff', 'respective', 'richmond', 'conoco', 'driver', 'easily', 'sean', 'den', 'gateway', 'holdings', 'brad', 'college', 'gains', 'adult', 'dated', 'em', 'mcloughlin', 'anticipates', 'henderson', 'julia', 'negotiations', 'sofftwaares', 'garrick', 'comstock', 'trochta', 'imceanotes', 'ecom', 'larger', 'nommensen', 'coordinate', 'partnership', 'otcbb', 'announces', 'louis', 'dealer', 'reliance', 'season', 'agua', 'dulce', 'offshore', 'gathered', 'forever', 'function', 'happened', 'sample', 'easier', 'aim', 'pa', 'expensive', 'thinks', 'maximum', 'war', 'mining', 'drilling', 'owned', 'todd', 'advanced', 'provider', 'pending', 'providers', 'silver', 'cherry', 'hundreds', 'thoughts', 'addresses', 'beach', 'baby', 'requires', 'caused', 'variance', 'extension', 'carbide', 'anytime', 'adding', 'triple', 'dawn', 'martinez', 'entering', 'login', 'bretz', 'ls', 'writeoff', 'locker', 'wiil', 'block', 'blood', 'romeo', 'responsibility', 'brennan', 'btu', 'venture', 'connected', 'nascar', 'opinions', 'executed', 'cell', 'flag', 'doctors', 'invoiced', 'marlin', 'coffey', 'nice', 'amazing', 'ii', 'determined', 'handled', 'keeping', 'touch', 'upgrade', 'shipment', 'brought', 'forwarding', 'confidence', 'hesitate', 'seem', 'electronic', 'appreciated', 'deadline', 'franklin', 'heather', 'reasons', 'passed', 'safety', 'procedures', 'payback', 'networks', 'utility', 'count', 'africa', 'exact', 'creating', 'loading', 'processed', 'court', 'tier', 'sender', 'att', 'mailbox', 'glad', 'buddy', 'profiles', 'portion', 'protection', 'compressor', 'okay', 'oba', 'finding', 'heads', 'bar', 'turned', 'remote', 'illustrator', 'oem', 'noticed', 'mails', 'darron', 'nick', 'urbanek', 'jerry', 'barrett', 'ehronline', 'und', 'abdv', 'egm', 'couid', 'technoiogies', 'owns', 'improved', 'eat', 'moment', 'owners', 'develop', 'installed', 'videos', 'frank', 'hearing', 'inches', 'busy', 'ref', 'valuable', 'et', 'un', 'url', 'shawna', 'iso', 'capture', 'extremely', 'ya', 'causing', 'consent', 'anyway', 'round', 'discrepancies', 'cheapest', 'confidentiality', 'disclosure', 'prohibited', 'vol', 'correction', 'communicate', 'processes', 'spain', 'shareholders', 'supported', 'smoking', 'mine', 'biggest', 'erections', 'platform', 'miles', 'exciting', 'association', 'die', 'restricted', 'ma', 'income', 'goal', 'bane', 'collection', 'nathan', 'wind', 'piece', 'familiar', 'gore', 'experiencing', 'pico', 'mai', 'dewpoint', 'tessie', 'hair', 'bussell', 'diane', 'delivering', 'originally', 'accurate', 'began', 'seven', 'tracking', 'randall', 'gay', 'emerging', 'prescriptions', 'story', 'arial', 'florida', 'space', 'ownership', 'european', 'sutton', 'concerned', 'male', 'spent', 'agreements', 'industries', 'picture', 'filled', 'continues', 'death', 'choate', 'majeure', 'device', 'hence', 'ten', 'campaign', 'massive', 'eyes', 'requesting', 'lives', 'reminder', 'eliminate', 'copied', 'consemiu', 'died', 'sound', 'offered', 'expressed', 'anti', 'duplicate', 'steps', 'books', 'improve', 'implementation', 'gives', 'ac', 'peggy', 'proprietary', 'ways', 'advertisement', 'published', 'earnings', 'mortgage', 'consumer', 'ct', 'tape', 'fl', 'cia', 'organizational', 'agenda', 'rental', 'carriere', 'moshou', 'church', 'trouble', 'medium', 'aggressive', 'smart', 'zajac', 'ail', 'participants', 'gap', 'earthlink', 'wire', 'trades', 'messaging', 'ut', 'wil', 'richardson', 'blvd', 'glo', 'seneca', 'pubiisher', 'imited', 'isc', 'contacts', 'sleep', 'kyle', 'cooperation', 'possibly', 'leaving', 'motor', 'hopefully', 'tie', 'speak', 'mi', 'suggested', 'canadian', 'uses', 'connect', 'pvr', 'rich', 'places', 'auction', 'po', 'spacer', 'client', 'recommended', 'royalty', 'amended', 'default', 'living', 'regardless', 'human', 'bringing', 'focused', 'stores', 'variety', 'netherlands', 'leaders', 'bowen', 'salary', 'signed', 'penny', 'loan', 'desktop', 'chase', 'pleasure', 'compare', 'session', 'overall', 'stranger', 'length', 'planned', 'sp', 'darrel', 'raise', 'palestinian', 'expiration', 'serial', 'premiere', 'suzanne', 'reduced', 'players', 'applicable', 'impotence', 'buckley', 'wayne', 'hansen', 'indicative', 'sabrae', 'dating', 'winners', 'marshall', 'highest', 'ea', 'presentation', 'allowed', 'square', 'danny', 'gepl', 'hydrocarbon', 'alpine', 'christmas', 'muscle', 'souza', 'relating', 'begins', 'ecf', 'forth', 'answers', 'audit', 'approve', 'lunch', 'types', 'starts', 'difficult', 'le', 'lasts', 'series', 'till', 'edge', 'growing', 'covered', 'shipper', 'sometime', 'republic', 'filter', 'sooner', 'increasing', 'nelson', 'percentage', 'returned', 'pop', 'interface', 'kin', 'experienced', 'prime', 'merger', 'obtain', 'ryan', 'servers', 'attachments', 'achieve', 'effects', 'gov', 'examples', 'procedure', 'explore', 'caribbean', 'rally', 'amounts', 'comfort', 'attempt', 'greatly', 'amelia', 'engel', 'delay', 'fare', 'der', 'cove', 'filing', 'fletcher', 'leth', 'undervalued', 'cents', 'esther', 'hlavaty', 'reid', 'lls', 'troy', 'palmer', 'metals', 'las', 'carter', 'luis', 'migration', 'brief', 'hess', 'therein', 'ur', 'pond', 'joanne', 'community', 'tglo', 'eogi', 'ml', 'wysak', 'felipe', 'errors', 'affect', 'convenient', 'minimal', 'boost', 'incremental', 'decide', 'reserve', 'superior', 'kerr', 'willing', 'quite', 'wild', 'unlimited', 'sans', 'mother', 'computers', 'unfortunately', 'ordered', 'satisfaction', 'priority', 'traded', 'testing', 'portal', 'ward', 'lets', 'aren', 'knows', 'refer', 'shot', 'fda', 'tue', 'saying', 'cancel', 'forecast', 'cousino', 'bass', 'permanent', 'phones', 'technical', 'whose', 'objective', 'cards', 'distributed', 'learning', 'fire', 'drill', 'towards', 'forget', 'explosion', 'gloria', 'formula', 'redelivery', 'audio', 'visual', 'encoding', 'approach', 'doubt', 'staffing', 'excite', 'corel', 'tm', 'enronavailso', 'contacting', 'alland', 'heavy', 'economic', 'nigeria', 'milwaukee', 'phillip', 'curve', 'returns', 'padre', 'kathy', 'buttons', 'sir', 'vary', 'sounds', 'disclose', 'authority', 'flw', 'straight', 'worldnet', 'beemer', 'ooo', 'defs', 'thorough', 'officers', 'flight', 'prefer', 'awesome', 'macintosh', 'feet', 'constitutes', 'formosa', 'porn', 'armstrong', 'driscoll', 'watches', 'newsietter', 'twenty', 'tommy', 'fields', 'method', 'setup', 'allocating', 'initially', 'missed', 'clarification', 'especially', 'dorcheus', 'del', 'millions', 'insurance', 'pooling', 'trial', 'tennessee', 'ellis', 'direction', 'bold', 'catch', 'performing', 'accepted', 'matters', 'batch', 'continuing', 'winning', 'symbol', 'offsystem', 'decisions', 'produced', 'ended', 'greatest', 'degree', 'solmonson', 'imbalances', 'fall', 'fear', 'hate', 'fight', 'reallocated', 'debt', 'reform', 'australia', 'plain', 'prompt', 'remains', 'ifhsc', 'enhancements', 'connevey', 'jay', 'valued', 'lay', 'infrastructure', 'military', 'allowing', 'ff', 'dry']\n"
          ]
        }
      ]
    },
    {
      "cell_type": "code",
      "source": [
        "print(dx.shape)\n",
        "print(dx.head())\n",
        "print(dy.head())\n",
        "print(dy.shape)\n"
      ],
      "metadata": {
        "colab": {
          "base_uri": "https://localhost:8080/"
        },
        "id": "vVUSFvNT-lau",
        "outputId": "327645e2-125f-4056-8ace-825944886263"
      },
      "execution_count": null,
      "outputs": [
        {
          "output_type": "stream",
          "name": "stdout",
          "text": [
            "(4137, 3000)\n",
            "   the  to  ect  and  for  of    a  you  hou  in  ...  enhancements  connevey  \\\n",
            "0    2   5    2    0    2   0   24    1    0   4  ...             0         0   \n",
            "1   18  15    2    1    4  14  120    5    0  15  ...             0         0   \n",
            "2    2   0    1    1    2   2   12    2    0   3  ...             0         0   \n",
            "3   26  31    2   13   12  23  222    1    0  65  ...             0         0   \n",
            "4    1   1    1    2    0   0   10    0    0   1  ...             0         0   \n",
            "\n",
            "   jay  valued  lay  infrastructure  military  allowing  ff  dry  \n",
            "0    0       0    0               0         0         0   0    0  \n",
            "1    0       0    0               0         0         0   2    0  \n",
            "2    0       0    0               0         0         0   1    0  \n",
            "3    0       0    5               0         0         0   0    0  \n",
            "4    0       0    0               0         0         0   0    0  \n",
            "\n",
            "[5 rows x 3000 columns]\n",
            "   Prediction\n",
            "0           0\n",
            "1           0\n",
            "2           1\n",
            "3           1\n",
            "4           1\n",
            "(4137, 1)\n"
          ]
        }
      ]
    },
    {
      "cell_type": "code",
      "source": [
        "count0 = (dy == 0).sum()[0]\n",
        "count1 = (dy == 1).sum()[0]\n",
        "print('Count of zeros: ', count0,'\\n')\n",
        "print('Count of ones: ',count1)\n",
        "percentage_spam = count1/(count0+count1)\n",
        "print('Percentage of spam mails is:',percentage_spam)\n",
        "percentage_not_spam = count0/(count0+count1)\n",
        "print(percentage_not_spam)"
      ],
      "metadata": {
        "colab": {
          "base_uri": "https://localhost:8080/"
        },
        "id": "bnQo2wasAbE6",
        "outputId": "e85e8e0d-8a74-4458-a2bc-16f91d7350ad"
      },
      "execution_count": null,
      "outputs": [
        {
          "output_type": "stream",
          "name": "stdout",
          "text": [
            "Count of zeros:  2954 \n",
            "\n",
            "Count of ones:  1183\n",
            "Percentage of spam mails is: 0.2859560067681895\n",
            "0.7140439932318104\n"
          ]
        }
      ]
    },
    {
      "cell_type": "code",
      "source": [
        "data = pd.concat([dx, dy], axis=1)\n",
        "data.head()"
      ],
      "metadata": {
        "colab": {
          "base_uri": "https://localhost:8080/",
          "height": 300
        },
        "id": "p1-Di498AzQv",
        "outputId": "363c0681-7778-46bb-de89-8e75f750eace"
      },
      "execution_count": null,
      "outputs": [
        {
          "output_type": "execute_result",
          "data": {
            "text/plain": [
              "   the  to  ect  and  for  of    a  you  hou  in  ...  connevey  jay  valued  \\\n",
              "0    2   5    2    0    2   0   24    1    0   4  ...         0    0       0   \n",
              "1   18  15    2    1    4  14  120    5    0  15  ...         0    0       0   \n",
              "2    2   0    1    1    2   2   12    2    0   3  ...         0    0       0   \n",
              "3   26  31    2   13   12  23  222    1    0  65  ...         0    0       0   \n",
              "4    1   1    1    2    0   0   10    0    0   1  ...         0    0       0   \n",
              "\n",
              "   lay  infrastructure  military  allowing  ff  dry  Prediction  \n",
              "0    0               0         0         0   0    0           0  \n",
              "1    0               0         0         0   2    0           0  \n",
              "2    0               0         0         0   1    0           1  \n",
              "3    5               0         0         0   0    0           1  \n",
              "4    0               0         0         0   0    0           1  \n",
              "\n",
              "[5 rows x 3001 columns]"
            ],
            "text/html": [
              "\n",
              "  <div id=\"df-963eb46a-ed4f-43d3-983b-397bbe6d813c\">\n",
              "    <div class=\"colab-df-container\">\n",
              "      <div>\n",
              "<style scoped>\n",
              "    .dataframe tbody tr th:only-of-type {\n",
              "        vertical-align: middle;\n",
              "    }\n",
              "\n",
              "    .dataframe tbody tr th {\n",
              "        vertical-align: top;\n",
              "    }\n",
              "\n",
              "    .dataframe thead th {\n",
              "        text-align: right;\n",
              "    }\n",
              "</style>\n",
              "<table border=\"1\" class=\"dataframe\">\n",
              "  <thead>\n",
              "    <tr style=\"text-align: right;\">\n",
              "      <th></th>\n",
              "      <th>the</th>\n",
              "      <th>to</th>\n",
              "      <th>ect</th>\n",
              "      <th>and</th>\n",
              "      <th>for</th>\n",
              "      <th>of</th>\n",
              "      <th>a</th>\n",
              "      <th>you</th>\n",
              "      <th>hou</th>\n",
              "      <th>in</th>\n",
              "      <th>...</th>\n",
              "      <th>connevey</th>\n",
              "      <th>jay</th>\n",
              "      <th>valued</th>\n",
              "      <th>lay</th>\n",
              "      <th>infrastructure</th>\n",
              "      <th>military</th>\n",
              "      <th>allowing</th>\n",
              "      <th>ff</th>\n",
              "      <th>dry</th>\n",
              "      <th>Prediction</th>\n",
              "    </tr>\n",
              "  </thead>\n",
              "  <tbody>\n",
              "    <tr>\n",
              "      <th>0</th>\n",
              "      <td>2</td>\n",
              "      <td>5</td>\n",
              "      <td>2</td>\n",
              "      <td>0</td>\n",
              "      <td>2</td>\n",
              "      <td>0</td>\n",
              "      <td>24</td>\n",
              "      <td>1</td>\n",
              "      <td>0</td>\n",
              "      <td>4</td>\n",
              "      <td>...</td>\n",
              "      <td>0</td>\n",
              "      <td>0</td>\n",
              "      <td>0</td>\n",
              "      <td>0</td>\n",
              "      <td>0</td>\n",
              "      <td>0</td>\n",
              "      <td>0</td>\n",
              "      <td>0</td>\n",
              "      <td>0</td>\n",
              "      <td>0</td>\n",
              "    </tr>\n",
              "    <tr>\n",
              "      <th>1</th>\n",
              "      <td>18</td>\n",
              "      <td>15</td>\n",
              "      <td>2</td>\n",
              "      <td>1</td>\n",
              "      <td>4</td>\n",
              "      <td>14</td>\n",
              "      <td>120</td>\n",
              "      <td>5</td>\n",
              "      <td>0</td>\n",
              "      <td>15</td>\n",
              "      <td>...</td>\n",
              "      <td>0</td>\n",
              "      <td>0</td>\n",
              "      <td>0</td>\n",
              "      <td>0</td>\n",
              "      <td>0</td>\n",
              "      <td>0</td>\n",
              "      <td>0</td>\n",
              "      <td>2</td>\n",
              "      <td>0</td>\n",
              "      <td>0</td>\n",
              "    </tr>\n",
              "    <tr>\n",
              "      <th>2</th>\n",
              "      <td>2</td>\n",
              "      <td>0</td>\n",
              "      <td>1</td>\n",
              "      <td>1</td>\n",
              "      <td>2</td>\n",
              "      <td>2</td>\n",
              "      <td>12</td>\n",
              "      <td>2</td>\n",
              "      <td>0</td>\n",
              "      <td>3</td>\n",
              "      <td>...</td>\n",
              "      <td>0</td>\n",
              "      <td>0</td>\n",
              "      <td>0</td>\n",
              "      <td>0</td>\n",
              "      <td>0</td>\n",
              "      <td>0</td>\n",
              "      <td>0</td>\n",
              "      <td>1</td>\n",
              "      <td>0</td>\n",
              "      <td>1</td>\n",
              "    </tr>\n",
              "    <tr>\n",
              "      <th>3</th>\n",
              "      <td>26</td>\n",
              "      <td>31</td>\n",
              "      <td>2</td>\n",
              "      <td>13</td>\n",
              "      <td>12</td>\n",
              "      <td>23</td>\n",
              "      <td>222</td>\n",
              "      <td>1</td>\n",
              "      <td>0</td>\n",
              "      <td>65</td>\n",
              "      <td>...</td>\n",
              "      <td>0</td>\n",
              "      <td>0</td>\n",
              "      <td>0</td>\n",
              "      <td>5</td>\n",
              "      <td>0</td>\n",
              "      <td>0</td>\n",
              "      <td>0</td>\n",
              "      <td>0</td>\n",
              "      <td>0</td>\n",
              "      <td>1</td>\n",
              "    </tr>\n",
              "    <tr>\n",
              "      <th>4</th>\n",
              "      <td>1</td>\n",
              "      <td>1</td>\n",
              "      <td>1</td>\n",
              "      <td>2</td>\n",
              "      <td>0</td>\n",
              "      <td>0</td>\n",
              "      <td>10</td>\n",
              "      <td>0</td>\n",
              "      <td>0</td>\n",
              "      <td>1</td>\n",
              "      <td>...</td>\n",
              "      <td>0</td>\n",
              "      <td>0</td>\n",
              "      <td>0</td>\n",
              "      <td>0</td>\n",
              "      <td>0</td>\n",
              "      <td>0</td>\n",
              "      <td>0</td>\n",
              "      <td>0</td>\n",
              "      <td>0</td>\n",
              "      <td>1</td>\n",
              "    </tr>\n",
              "  </tbody>\n",
              "</table>\n",
              "<p>5 rows × 3001 columns</p>\n",
              "</div>\n",
              "      <button class=\"colab-df-convert\" onclick=\"convertToInteractive('df-963eb46a-ed4f-43d3-983b-397bbe6d813c')\"\n",
              "              title=\"Convert this dataframe to an interactive table.\"\n",
              "              style=\"display:none;\">\n",
              "        \n",
              "  <svg xmlns=\"http://www.w3.org/2000/svg\" height=\"24px\"viewBox=\"0 0 24 24\"\n",
              "       width=\"24px\">\n",
              "    <path d=\"M0 0h24v24H0V0z\" fill=\"none\"/>\n",
              "    <path d=\"M18.56 5.44l.94 2.06.94-2.06 2.06-.94-2.06-.94-.94-2.06-.94 2.06-2.06.94zm-11 1L8.5 8.5l.94-2.06 2.06-.94-2.06-.94L8.5 2.5l-.94 2.06-2.06.94zm10 10l.94 2.06.94-2.06 2.06-.94-2.06-.94-.94-2.06-.94 2.06-2.06.94z\"/><path d=\"M17.41 7.96l-1.37-1.37c-.4-.4-.92-.59-1.43-.59-.52 0-1.04.2-1.43.59L10.3 9.45l-7.72 7.72c-.78.78-.78 2.05 0 2.83L4 21.41c.39.39.9.59 1.41.59.51 0 1.02-.2 1.41-.59l7.78-7.78 2.81-2.81c.8-.78.8-2.07 0-2.86zM5.41 20L4 18.59l7.72-7.72 1.47 1.35L5.41 20z\"/>\n",
              "  </svg>\n",
              "      </button>\n",
              "      \n",
              "  <style>\n",
              "    .colab-df-container {\n",
              "      display:flex;\n",
              "      flex-wrap:wrap;\n",
              "      gap: 12px;\n",
              "    }\n",
              "\n",
              "    .colab-df-convert {\n",
              "      background-color: #E8F0FE;\n",
              "      border: none;\n",
              "      border-radius: 50%;\n",
              "      cursor: pointer;\n",
              "      display: none;\n",
              "      fill: #1967D2;\n",
              "      height: 32px;\n",
              "      padding: 0 0 0 0;\n",
              "      width: 32px;\n",
              "    }\n",
              "\n",
              "    .colab-df-convert:hover {\n",
              "      background-color: #E2EBFA;\n",
              "      box-shadow: 0px 1px 2px rgba(60, 64, 67, 0.3), 0px 1px 3px 1px rgba(60, 64, 67, 0.15);\n",
              "      fill: #174EA6;\n",
              "    }\n",
              "\n",
              "    [theme=dark] .colab-df-convert {\n",
              "      background-color: #3B4455;\n",
              "      fill: #D2E3FC;\n",
              "    }\n",
              "\n",
              "    [theme=dark] .colab-df-convert:hover {\n",
              "      background-color: #434B5C;\n",
              "      box-shadow: 0px 1px 3px 1px rgba(0, 0, 0, 0.15);\n",
              "      filter: drop-shadow(0px 1px 2px rgba(0, 0, 0, 0.3));\n",
              "      fill: #FFFFFF;\n",
              "    }\n",
              "  </style>\n",
              "\n",
              "      <script>\n",
              "        const buttonEl =\n",
              "          document.querySelector('#df-963eb46a-ed4f-43d3-983b-397bbe6d813c button.colab-df-convert');\n",
              "        buttonEl.style.display =\n",
              "          google.colab.kernel.accessAllowed ? 'block' : 'none';\n",
              "\n",
              "        async function convertToInteractive(key) {\n",
              "          const element = document.querySelector('#df-963eb46a-ed4f-43d3-983b-397bbe6d813c');\n",
              "          const dataTable =\n",
              "            await google.colab.kernel.invokeFunction('convertToInteractive',\n",
              "                                                     [key], {});\n",
              "          if (!dataTable) return;\n",
              "\n",
              "          const docLinkHtml = 'Like what you see? Visit the ' +\n",
              "            '<a target=\"_blank\" href=https://colab.research.google.com/notebooks/data_table.ipynb>data table notebook</a>'\n",
              "            + ' to learn more about interactive tables.';\n",
              "          element.innerHTML = '';\n",
              "          dataTable['output_type'] = 'display_data';\n",
              "          await google.colab.output.renderOutput(dataTable, element);\n",
              "          const docLink = document.createElement('div');\n",
              "          docLink.innerHTML = docLinkHtml;\n",
              "          element.appendChild(docLink);\n",
              "        }\n",
              "      </script>\n",
              "    </div>\n",
              "  </div>\n",
              "  "
            ]
          },
          "metadata": {},
          "execution_count": 11
        }
      ]
    },
    {
      "cell_type": "code",
      "source": [
        "row_sums = data.iloc[:, :-1].sum(axis=1)\n",
        "print(row_sums)\n",
        "sum_of_cols = data.iloc[:, :-1].sum()\n",
        "print(sum_of_cols)"
      ],
      "metadata": {
        "colab": {
          "base_uri": "https://localhost:8080/"
        },
        "id": "4bo63e4pA3XC",
        "outputId": "1c3c1036-a29b-4d9d-a5a6-9b5dea409cfb"
      },
      "execution_count": null,
      "outputs": [
        {
          "output_type": "stream",
          "name": "stdout",
          "text": [
            "0        560\n",
            "1       2254\n",
            "2        375\n",
            "3       4696\n",
            "4        152\n",
            "        ... \n",
            "4132    1177\n",
            "4133    2359\n",
            "4134     163\n",
            "4135    1132\n",
            "4136      79\n",
            "Length: 4137, dtype: int64\n",
            "the               27476\n",
            "to                25758\n",
            "ect               21445\n",
            "and               12817\n",
            "for               12944\n",
            "                  ...  \n",
            "infrastructure       17\n",
            "military             19\n",
            "allowing             15\n",
            "ff                 3852\n",
            "dry                  28\n",
            "Length: 3000, dtype: int64\n"
          ]
        }
      ]
    },
    {
      "cell_type": "code",
      "source": [
        "sum_of_cols_for_respondent_0 = data.groupby('Prediction').get_group(0).drop(columns='Prediction').sum()\n",
        "print('Sum of columns for which the respondent is 0:\\n',sum_of_cols_for_respondent_0.head())\n",
        "\n",
        "sum_of_cols_for_respondent_1 = data.groupby('Prediction').get_group(1).drop(columns='Prediction').sum()\n",
        "print('Sum of columns for which the respondent is 1:\\n',sum_of_cols_for_respondent_1.head())"
      ],
      "metadata": {
        "colab": {
          "base_uri": "https://localhost:8080/"
        },
        "id": "19ukMfPWBGgH",
        "outputId": "31055cde-2219-43eb-ec00-29436c9cff43"
      },
      "execution_count": null,
      "outputs": [
        {
          "output_type": "stream",
          "name": "stdout",
          "text": [
            "Sum of columns for which the respondent is 0:\n",
            " the    19765\n",
            "to     17335\n",
            "ect    18442\n",
            "and     7927\n",
            "for     9307\n",
            "dtype: int64\n",
            "Sum of columns for which the respondent is 1:\n",
            " the    7711\n",
            "to     8423\n",
            "ect    3003\n",
            "and    4890\n",
            "for    3637\n",
            "dtype: int64\n"
          ]
        }
      ]
    },
    {
      "cell_type": "code",
      "source": [],
      "metadata": {
        "id": "3ZFuGxvcFB62"
      },
      "execution_count": null,
      "outputs": []
    },
    {
      "cell_type": "code",
      "source": [
        "sum_of_rows_where_respondent_is_0 = data.groupby('Prediction').get_group(0).drop(columns='Prediction').sum(axis=1)\n",
        "print(sum_of_rows_where_respondent_is_0)\n",
        "\n",
        "total_sum_of_rows_where_respondent_is_0 = sum_of_rows_where_respondent_is_0.sum()\n",
        "print('All words for non-spam mails:',total_sum_of_rows_where_respondent_is_0)\n",
        "\n",
        "sum_of_rows_where_respondent_is_1 = data.groupby('Prediction').get_group(1).drop(columns='Prediction').sum(axis=1)\n",
        "print(sum_of_rows_where_respondent_is_1)\n",
        "\n",
        "total_sum_of_rows_where_respondent_is_1 = sum_of_rows_where_respondent_is_1.sum()\n",
        "print('All words for spam mails:',total_sum_of_rows_where_respondent_is_1)"
      ],
      "metadata": {
        "colab": {
          "base_uri": "https://localhost:8080/"
        },
        "id": "1XQPw-2jBxJY",
        "outputId": "0c88dc94-9261-4765-d474-c547108e4efa"
      },
      "execution_count": null,
      "outputs": [
        {
          "output_type": "stream",
          "name": "stdout",
          "text": [
            "0        560\n",
            "1       2254\n",
            "5        286\n",
            "6        103\n",
            "7        673\n",
            "        ... \n",
            "4126      86\n",
            "4127    2985\n",
            "4132    1177\n",
            "4134     163\n",
            "4136      79\n",
            "Length: 2954, dtype: int64\n",
            "All words for non-spam mails: 3100894\n",
            "2        375\n",
            "3       4696\n",
            "4        152\n",
            "12      2697\n",
            "13      1053\n",
            "        ... \n",
            "4129    8437\n",
            "4130     779\n",
            "4131     334\n",
            "4133    2359\n",
            "4135    1132\n",
            "Length: 1183, dtype: int64\n",
            "All words for spam mails: 1746526\n"
          ]
        }
      ]
    },
    {
      "cell_type": "code",
      "source": [
        "result_series_0 = (sum_of_cols_for_respondent_0 / total_sum_of_rows_where_respondent_is_0).replace(0,10**(-12)).apply(np.log)\n",
        "print(result_series_0,'\\n')\n",
        "result_series_1 = (sum_of_cols_for_respondent_1 / total_sum_of_rows_where_respondent_is_1).replace(0,10**(-12)).apply(np.log)\n",
        "print(result_series_1)"
      ],
      "metadata": {
        "colab": {
          "base_uri": "https://localhost:8080/"
        },
        "id": "6x0H3YT_DQn2",
        "outputId": "44d2c38b-130d-4dc5-928c-4920f8ab7799"
      },
      "execution_count": null,
      "outputs": [
        {
          "output_type": "stream",
          "name": "stdout",
          "text": [
            "the               -5.055533\n",
            "to                -5.186718\n",
            "ect               -5.124815\n",
            "and               -5.969171\n",
            "for               -5.808679\n",
            "                    ...    \n",
            "infrastructure   -13.155442\n",
            "military         -14.254054\n",
            "allowing         -12.644616\n",
            "ff                -7.352317\n",
            "dry              -11.951469\n",
            "Length: 3000, dtype: float64 \n",
            "\n",
            "the               -5.422736\n",
            "to                -5.334418\n",
            "ect               -6.365772\n",
            "and               -5.878192\n",
            "for               -6.174225\n",
            "                    ...    \n",
            "infrastructure   -11.975244\n",
            "military         -11.539926\n",
            "allowing         -12.763701\n",
            "ff                -6.842659\n",
            "dry              -12.293698\n",
            "Length: 3000, dtype: float64\n"
          ]
        }
      ]
    },
    {
      "cell_type": "code",
      "source": [
        "def multinomial_predictor(result_series_0,result_series_1,dxtest):\n",
        "  new_series_0 = dxtest.multiply(result_series_0, axis=1).sum(axis=1)\n",
        "  new_series_0_w_prior = new_series_0 + np.log(0.71)\n",
        "  new_series_1 = dxtest.multiply(result_series_1, axis=1).sum(axis=1)\n",
        "  new_series_1_w_prior = new_series_1 + np.log(0.29)\n",
        "  compared_series_boolean = new_series_1_w_prior.gt(new_series_0_w_prior)\n",
        "  compared_series = compared_series_boolean.astype(int)\n",
        "  return compared_series"
      ],
      "metadata": {
        "id": "sKCg8TlJRIlc"
      },
      "execution_count": null,
      "outputs": []
    },
    {
      "cell_type": "code",
      "source": [
        "trained_y = multinomial_predictor(result_series_0,result_series_1,dxtest)\n",
        "print(trained_y)"
      ],
      "metadata": {
        "colab": {
          "base_uri": "https://localhost:8080/"
        },
        "id": "fn9KxTn0X-oA",
        "outputId": "aab1b0db-0616-4bbe-e2ff-946034bfafdf"
      },
      "execution_count": null,
      "outputs": [
        {
          "output_type": "stream",
          "name": "stdout",
          "text": [
            "0       0\n",
            "1       0\n",
            "2       0\n",
            "3       1\n",
            "4       0\n",
            "       ..\n",
            "1030    1\n",
            "1031    0\n",
            "1032    1\n",
            "1033    0\n",
            "1034    1\n",
            "Length: 1035, dtype: int64\n"
          ]
        }
      ]
    },
    {
      "cell_type": "code",
      "source": [
        "trained_y_df = trained_y.to_frame()\n",
        "print(trained_y_df)"
      ],
      "metadata": {
        "colab": {
          "base_uri": "https://localhost:8080/"
        },
        "id": "1qxcZc-7bEPJ",
        "outputId": "328de98e-6175-4630-b7d5-0a0a8211657e"
      },
      "execution_count": null,
      "outputs": [
        {
          "output_type": "stream",
          "name": "stdout",
          "text": [
            "      0\n",
            "0     0\n",
            "1     0\n",
            "2     0\n",
            "3     1\n",
            "4     0\n",
            "...  ..\n",
            "1030  1\n",
            "1031  0\n",
            "1032  1\n",
            "1033  0\n",
            "1034  1\n",
            "\n",
            "[1035 rows x 1 columns]\n"
          ]
        }
      ]
    },
    {
      "cell_type": "code",
      "source": [],
      "metadata": {
        "id": "kjoq51vB3oih"
      },
      "execution_count": null,
      "outputs": []
    },
    {
      "cell_type": "code",
      "source": [
        "trained_y_df.shape"
      ],
      "metadata": {
        "colab": {
          "base_uri": "https://localhost:8080/"
        },
        "id": "i0uP2EtUbJ5v",
        "outputId": "36daa236-d9ea-43f8-be04-27c2afd38f08"
      },
      "execution_count": null,
      "outputs": [
        {
          "output_type": "execute_result",
          "data": {
            "text/plain": [
              "(1035, 1)"
            ]
          },
          "metadata": {},
          "execution_count": 19
        }
      ]
    },
    {
      "cell_type": "code",
      "source": [
        "dytest.shape"
      ],
      "metadata": {
        "colab": {
          "base_uri": "https://localhost:8080/"
        },
        "id": "YBh_ozX8ZjbH",
        "outputId": "2a66f3da-4c7e-4d8a-f58e-97823dcd5700"
      },
      "execution_count": null,
      "outputs": [
        {
          "output_type": "execute_result",
          "data": {
            "text/plain": [
              "(1035, 1)"
            ]
          },
          "metadata": {},
          "execution_count": 20
        }
      ]
    },
    {
      "cell_type": "code",
      "source": [
        "trained_y_df.eq(dytest.values).mean()"
      ],
      "metadata": {
        "colab": {
          "base_uri": "https://localhost:8080/"
        },
        "id": "VxPZsIXUZC4-",
        "outputId": "23c94b06-cb9b-48d6-9569-784bce41e65f"
      },
      "execution_count": null,
      "outputs": [
        {
          "output_type": "execute_result",
          "data": {
            "text/plain": [
              "0    0.958454\n",
              "dtype: float64"
            ]
          },
          "metadata": {},
          "execution_count": 21
        }
      ]
    },
    {
      "cell_type": "code",
      "source": [
        "dytest.rename(columns = {'Prediction':'actual y'}, inplace = True)\n",
        "print(dytest)"
      ],
      "metadata": {
        "colab": {
          "base_uri": "https://localhost:8080/"
        },
        "id": "FjAqJtKQ6LsZ",
        "outputId": "04825c6e-18f0-433c-b274-b86df46ce619"
      },
      "execution_count": null,
      "outputs": [
        {
          "output_type": "stream",
          "name": "stdout",
          "text": [
            "      actual y\n",
            "0            0\n",
            "1            0\n",
            "2            0\n",
            "3            1\n",
            "4            0\n",
            "...        ...\n",
            "1030         1\n",
            "1031         0\n",
            "1032         1\n",
            "1033         0\n",
            "1034         1\n",
            "\n",
            "[1035 rows x 1 columns]\n"
          ]
        }
      ]
    },
    {
      "cell_type": "code",
      "source": [
        "trained_y_df.rename(columns = {0:'trained y'}, inplace = True)\n",
        "print(trained_y_df)"
      ],
      "metadata": {
        "colab": {
          "base_uri": "https://localhost:8080/"
        },
        "id": "5tQzIzWl4Q3b",
        "outputId": "3d293146-1ff6-4fa8-9631-b2c4b045fd51"
      },
      "execution_count": null,
      "outputs": [
        {
          "output_type": "stream",
          "name": "stdout",
          "text": [
            "      trained y\n",
            "0             0\n",
            "1             0\n",
            "2             0\n",
            "3             1\n",
            "4             0\n",
            "...         ...\n",
            "1030          1\n",
            "1031          0\n",
            "1032          1\n",
            "1033          0\n",
            "1034          1\n",
            "\n",
            "[1035 rows x 1 columns]\n"
          ]
        }
      ]
    },
    {
      "cell_type": "code",
      "source": [
        "df_concat = pd.concat([dytest,trained_y_df], axis=1)\n",
        "confusion_matrix = pd.crosstab(df_concat['actual y'], df_concat['trained y'], rownames=['Actual'], colnames=['Predicted'])\n",
        "print(confusion_matrix)"
      ],
      "metadata": {
        "colab": {
          "base_uri": "https://localhost:8080/"
        },
        "id": "1xXPFyKf2bZy",
        "outputId": "e9c59823-b384-4808-8609-ddff77482746"
      },
      "execution_count": null,
      "outputs": [
        {
          "output_type": "stream",
          "name": "stdout",
          "text": [
            "Predicted    0    1\n",
            "Actual             \n",
            "0          693   25\n",
            "1           18  299\n"
          ]
        }
      ]
    },
    {
      "cell_type": "code",
      "source": [
        "sum_of_cols_for_respondent_0_2 = sum_of_cols_for_respondent_0 + 5\n",
        "print(sum_of_cols_for_respondent_0_2)\n",
        "sum_of_cols_for_respondent_1_2 = sum_of_cols_for_respondent_1 + 5\n",
        "print(sum_of_cols_for_respondent_1_2)"
      ],
      "metadata": {
        "colab": {
          "base_uri": "https://localhost:8080/"
        },
        "id": "hHy-hHgcl_Q0",
        "outputId": "5e4cdf35-36fc-49e3-85d9-47846ba87fbf"
      },
      "execution_count": null,
      "outputs": [
        {
          "output_type": "stream",
          "name": "stdout",
          "text": [
            "the               19770\n",
            "to                17340\n",
            "ect               18447\n",
            "and                7932\n",
            "for                9312\n",
            "                  ...  \n",
            "infrastructure       11\n",
            "military              7\n",
            "allowing             15\n",
            "ff                 1993\n",
            "dry                  25\n",
            "Length: 3000, dtype: int64\n",
            "the               7716\n",
            "to                8428\n",
            "ect               3008\n",
            "and               4895\n",
            "for               3642\n",
            "                  ... \n",
            "infrastructure      16\n",
            "military            22\n",
            "allowing            10\n",
            "ff                1869\n",
            "dry                 13\n",
            "Length: 3000, dtype: int64\n"
          ]
        }
      ]
    },
    {
      "cell_type": "code",
      "source": [
        "total_sum_of_rows_where_respondent_is_0_2 = total_sum_of_rows_where_respondent_is_0 + 15000\n",
        "print(total_sum_of_rows_where_respondent_is_0_2)\n",
        "total_sum_of_rows_where_respondent_is_1_2 = total_sum_of_rows_where_respondent_is_1 +15000\n",
        "print(total_sum_of_rows_where_respondent_is_1_2)"
      ],
      "metadata": {
        "colab": {
          "base_uri": "https://localhost:8080/"
        },
        "id": "QZPdMxPgmXFU",
        "outputId": "37888b9e-3ca1-45a9-9c1f-5386deedd387"
      },
      "execution_count": null,
      "outputs": [
        {
          "output_type": "stream",
          "name": "stdout",
          "text": [
            "3115894\n",
            "1761526\n"
          ]
        }
      ]
    },
    {
      "cell_type": "code",
      "source": [
        "result_series_0_2 = (sum_of_cols_for_respondent_0_2/ total_sum_of_rows_where_respondent_is_0_2).replace(0,10**(-12)).apply(np.log)\n",
        "print(result_series_0_2,'\\n')\n",
        "result_series_1_2 = (sum_of_cols_for_respondent_1_2/ total_sum_of_rows_where_respondent_is_1_2).replace(0,10**(-12)).apply(np.log)\n",
        "print(result_series_1_2)"
      ],
      "metadata": {
        "colab": {
          "base_uri": "https://localhost:8080/"
        },
        "id": "T-WWUcOMiMkA",
        "outputId": "cfdd5b8c-e940-4f7a-a41c-4640e8ba8687"
      },
      "execution_count": null,
      "outputs": [
        {
          "output_type": "stream",
          "name": "stdout",
          "text": [
            "the               -5.060106\n",
            "to                -5.191255\n",
            "ect               -5.129370\n",
            "and               -5.973366\n",
            "for               -5.812967\n",
            "                    ...    \n",
            "infrastructure   -12.554131\n",
            "military         -13.006117\n",
            "allowing         -12.243976\n",
            "ff                -7.354630\n",
            "dry              -11.733151\n",
            "Length: 3000, dtype: float64 \n",
            "\n",
            "the               -5.430640\n",
            "to                -5.342376\n",
            "ect               -6.372660\n",
            "and               -5.885721\n",
            "for               -6.181403\n",
            "                    ...    \n",
            "infrastructure   -11.609102\n",
            "military         -11.290649\n",
            "allowing         -12.079106\n",
            "ff                -6.848532\n",
            "dry              -11.816742\n",
            "Length: 3000, dtype: float64\n"
          ]
        }
      ]
    },
    {
      "cell_type": "code",
      "source": [
        "trained_y_2 = multinomial_predictor(result_series_0_2,result_series_1_2,dxtest)\n",
        "print(trained_y_2)"
      ],
      "metadata": {
        "colab": {
          "base_uri": "https://localhost:8080/"
        },
        "id": "DiBdMffgm7w7",
        "outputId": "fafe82bd-71a9-4c36-9906-2a6eebcb7fd7"
      },
      "execution_count": null,
      "outputs": [
        {
          "output_type": "stream",
          "name": "stdout",
          "text": [
            "0       0\n",
            "1       0\n",
            "2       0\n",
            "3       1\n",
            "4       0\n",
            "       ..\n",
            "1030    1\n",
            "1031    0\n",
            "1032    1\n",
            "1033    0\n",
            "1034    1\n",
            "Length: 1035, dtype: int64\n"
          ]
        }
      ]
    },
    {
      "cell_type": "code",
      "source": [
        "trained_y_2_df = trained_y_2.to_frame()\n",
        "print(trained_y_2_df)"
      ],
      "metadata": {
        "colab": {
          "base_uri": "https://localhost:8080/"
        },
        "id": "ymPadsGgm_hj",
        "outputId": "b0330d13-4508-438d-dc1c-9f0c75318f6c"
      },
      "execution_count": null,
      "outputs": [
        {
          "output_type": "stream",
          "name": "stdout",
          "text": [
            "      0\n",
            "0     0\n",
            "1     0\n",
            "2     0\n",
            "3     1\n",
            "4     0\n",
            "...  ..\n",
            "1030  1\n",
            "1031  0\n",
            "1032  1\n",
            "1033  0\n",
            "1034  1\n",
            "\n",
            "[1035 rows x 1 columns]\n"
          ]
        }
      ]
    },
    {
      "cell_type": "code",
      "source": [
        "trained_y_2_df.eq(dytest.values).mean()"
      ],
      "metadata": {
        "colab": {
          "base_uri": "https://localhost:8080/"
        },
        "id": "Y3bocopKnKvc",
        "outputId": "c6c9de5b-52a9-46dc-b588-0bcbb3d655a0"
      },
      "execution_count": null,
      "outputs": [
        {
          "output_type": "execute_result",
          "data": {
            "text/plain": [
              "0    0.947826\n",
              "dtype: float64"
            ]
          },
          "metadata": {},
          "execution_count": 30
        }
      ]
    },
    {
      "cell_type": "code",
      "source": [
        "trained_y_2_df.rename(columns = {0:'trained y'}, inplace = True)\n",
        "print(trained_y_2_df)"
      ],
      "metadata": {
        "colab": {
          "base_uri": "https://localhost:8080/"
        },
        "id": "K9oYeD_p64Zz",
        "outputId": "080bcc3b-9c2f-4994-ceb2-c68527aa6f8f"
      },
      "execution_count": null,
      "outputs": [
        {
          "output_type": "stream",
          "name": "stdout",
          "text": [
            "      trained y\n",
            "0             0\n",
            "1             0\n",
            "2             0\n",
            "3             1\n",
            "4             0\n",
            "...         ...\n",
            "1030          1\n",
            "1031          0\n",
            "1032          1\n",
            "1033          0\n",
            "1034          1\n",
            "\n",
            "[1035 rows x 1 columns]\n"
          ]
        }
      ]
    },
    {
      "cell_type": "code",
      "source": [
        "df_concat_2 = pd.concat([dytest,trained_y_2_df], axis=1)\n",
        "confusion_matrix = pd.crosstab(df_concat_2['actual y'], df_concat_2['trained y'], rownames=['Actual'], colnames=['Predicted'])\n",
        "print(confusion_matrix)"
      ],
      "metadata": {
        "colab": {
          "base_uri": "https://localhost:8080/"
        },
        "id": "IiH5QTgT68j5",
        "outputId": "0e5bdade-09b6-4cc6-f41a-7f31298234bf"
      },
      "execution_count": null,
      "outputs": [
        {
          "output_type": "stream",
          "name": "stdout",
          "text": [
            "Predicted    0    1\n",
            "Actual             \n",
            "0          681   37\n",
            "1           17  300\n"
          ]
        }
      ]
    },
    {
      "cell_type": "code",
      "source": [
        "label = data.iloc[:, -1]"
      ],
      "metadata": {
        "id": "CFk7FwbgBaya"
      },
      "execution_count": null,
      "outputs": []
    },
    {
      "cell_type": "code",
      "source": [
        "counts_label_0 = np.count_nonzero(data.loc[label.values == 0, :], axis=0)\n",
        "counts_label_0 = counts_label_0[:-1]\n",
        "print(counts_label_0)"
      ],
      "metadata": {
        "colab": {
          "base_uri": "https://localhost:8080/"
        },
        "id": "SkgG2Mer7uYn",
        "outputId": "3636a478-ac53-4442-c4ba-57f4db313250"
      },
      "execution_count": null,
      "outputs": [
        {
          "output_type": "stream",
          "name": "stdout",
          "text": [
            "[2244 2316 2954 ...   10  878   16]\n"
          ]
        }
      ]
    },
    {
      "cell_type": "code",
      "source": [
        "counts_label_1 = np.count_nonzero(data.loc[label.values == 1, :], axis=0)\n",
        "counts_label_1 = counts_label_1[:-1]\n",
        "print(counts_label_1)"
      ],
      "metadata": {
        "colab": {
          "base_uri": "https://localhost:8080/"
        },
        "id": "SnLFPDCwEea5",
        "outputId": "33c8e74f-e944-43c9-ddd4-36c5f92c3861"
      },
      "execution_count": null,
      "outputs": [
        {
          "output_type": "stream",
          "name": "stdout",
          "text": [
            "[ 845  977 1183 ...    5  603    8]\n"
          ]
        }
      ]
    },
    {
      "cell_type": "code",
      "source": [
        "pred0 = counts_label_0/count0\n",
        "print(pred0)\n",
        "pred1 = counts_label_1/count1\n",
        "print(pred1)"
      ],
      "metadata": {
        "colab": {
          "base_uri": "https://localhost:8080/"
        },
        "id": "1fIlD1B1ETaD",
        "outputId": "6b31cf99-3d11-4c29-d854-3ffa4feb5518"
      },
      "execution_count": null,
      "outputs": [
        {
          "output_type": "stream",
          "name": "stdout",
          "text": [
            "[0.75964794 0.78402167 1.         ... 0.00338524 0.2972241  0.00541638]\n",
            "[0.71428571 0.82586644 1.         ... 0.00422654 0.50972105 0.00676247]\n"
          ]
        }
      ]
    },
    {
      "cell_type": "code",
      "source": [
        "pred0_reverse = 1 - pred0\n",
        "print(pred0_reverse)\n",
        "pred1_reverse = 1 - pred1\n",
        "print(pred1_reverse)"
      ],
      "metadata": {
        "colab": {
          "base_uri": "https://localhost:8080/"
        },
        "id": "jNElr7u8MvbQ",
        "outputId": "ca615352-5d4e-48eb-e965-520f86fad8a2"
      },
      "execution_count": null,
      "outputs": [
        {
          "output_type": "stream",
          "name": "stdout",
          "text": [
            "[0.24035206 0.21597833 0.         ... 0.99661476 0.7027759  0.99458362]\n",
            "[0.28571429 0.17413356 0.         ... 0.99577346 0.49027895 0.99323753]\n"
          ]
        }
      ]
    },
    {
      "cell_type": "code",
      "source": [
        "boolean_dxtest = dxtest.astype(bool).astype(int)\n",
        "print(boolean_dxtest)"
      ],
      "metadata": {
        "colab": {
          "base_uri": "https://localhost:8080/"
        },
        "id": "aMe1rMniHF3P",
        "outputId": "eecbcc5c-424c-4a42-9891-b98684926943"
      },
      "execution_count": null,
      "outputs": [
        {
          "output_type": "stream",
          "name": "stdout",
          "text": [
            "      the  to  ect  and  for  of  a  you  hou  in  ...  enhancements  \\\n",
            "0       1   1    1    0    1   0  1    0    0   1  ...             0   \n",
            "1       0   0    1    0    1   0  1    0    0   0  ...             0   \n",
            "2       1   1    1    1    1   1  1    1    1   1  ...             0   \n",
            "3       0   1    1    1    1   1  1    0    1   1  ...             0   \n",
            "4       1   1    1    1    1   1  1    0    0   1  ...             0   \n",
            "...   ...  ..  ...  ...  ...  .. ..  ...  ...  ..  ...           ...   \n",
            "1030    1   1    1    1    1   1  1    1    1   1  ...             0   \n",
            "1031    1   1    1    1    1   1  1    1    0   1  ...             0   \n",
            "1032    1   1    1    1    1   1  1    1    1   1  ...             0   \n",
            "1033    1   1    1    0    1   0  1    0    0   1  ...             0   \n",
            "1034    0   0    1    0    1   0  1    1    0   0  ...             0   \n",
            "\n",
            "      connevey  jay  valued  lay  infrastructure  military  allowing  ff  dry  \n",
            "0            0    0       0    0               0         0         0   0    0  \n",
            "1            0    0       0    0               0         0         0   0    0  \n",
            "2            0    0       0    0               0         0         0   1    0  \n",
            "3            0    0       0    0               0         0         0   1    0  \n",
            "4            0    0       0    0               0         0         0   1    0  \n",
            "...        ...  ...     ...  ...             ...       ...       ...  ..  ...  \n",
            "1030         0    0       0    0               0         0         0   1    0  \n",
            "1031         0    0       0    0               0         0         0   0    0  \n",
            "1032         0    0       0    0               0         0         0   0    0  \n",
            "1033         0    0       0    0               0         0         0   0    0  \n",
            "1034         0    0       0    0               0         0         0   0    0  \n",
            "\n",
            "[1035 rows x 3000 columns]\n"
          ]
        }
      ]
    },
    {
      "cell_type": "code",
      "source": [
        "boolean_reverse = 1 - boolean_dxtest\n",
        "print(boolean_reverse)"
      ],
      "metadata": {
        "colab": {
          "base_uri": "https://localhost:8080/"
        },
        "id": "6p7V3sHFHkzF",
        "outputId": "e2c16673-237c-41b3-d935-42eb27a647f7"
      },
      "execution_count": null,
      "outputs": [
        {
          "output_type": "stream",
          "name": "stdout",
          "text": [
            "      the  to  ect  and  for  of  a  you  hou  in  ...  enhancements  \\\n",
            "0       0   0    0    1    0   1  0    1    1   0  ...             1   \n",
            "1       1   1    0    1    0   1  0    1    1   1  ...             1   \n",
            "2       0   0    0    0    0   0  0    0    0   0  ...             1   \n",
            "3       1   0    0    0    0   0  0    1    0   0  ...             1   \n",
            "4       0   0    0    0    0   0  0    1    1   0  ...             1   \n",
            "...   ...  ..  ...  ...  ...  .. ..  ...  ...  ..  ...           ...   \n",
            "1030    0   0    0    0    0   0  0    0    0   0  ...             1   \n",
            "1031    0   0    0    0    0   0  0    0    1   0  ...             1   \n",
            "1032    0   0    0    0    0   0  0    0    0   0  ...             1   \n",
            "1033    0   0    0    1    0   1  0    1    1   0  ...             1   \n",
            "1034    1   1    0    1    0   1  0    0    1   1  ...             1   \n",
            "\n",
            "      connevey  jay  valued  lay  infrastructure  military  allowing  ff  dry  \n",
            "0            1    1       1    1               1         1         1   1    1  \n",
            "1            1    1       1    1               1         1         1   1    1  \n",
            "2            1    1       1    1               1         1         1   0    1  \n",
            "3            1    1       1    1               1         1         1   0    1  \n",
            "4            1    1       1    1               1         1         1   0    1  \n",
            "...        ...  ...     ...  ...             ...       ...       ...  ..  ...  \n",
            "1030         1    1       1    1               1         1         1   0    1  \n",
            "1031         1    1       1    1               1         1         1   1    1  \n",
            "1032         1    1       1    1               1         1         1   1    1  \n",
            "1033         1    1       1    1               1         1         1   1    1  \n",
            "1034         1    1       1    1               1         1         1   1    1  \n",
            "\n",
            "[1035 rows x 3000 columns]\n"
          ]
        }
      ]
    },
    {
      "cell_type": "code",
      "source": [
        "result0_firsthalf = boolean_dxtest.mul(pred0, axis=1)\n",
        "#print(result0_firsthalf)\n",
        "result0_secondhalf = boolean_reverse.mul(pred0_reverse, axis = 1)\n",
        "#print(result0_secondhalf)\n",
        "sumof_results = (result0_firsthalf+result0_secondhalf).replace(0,10*(-12))\n",
        "#print(sumof_results)\n",
        "multiof_results = sumof_results.prod(axis=1)\n",
        "logof_results = multiof_results.apply(np.log)\n",
        "print(multiof_results)\n",
        "print(logof_results)"
      ],
      "metadata": {
        "colab": {
          "base_uri": "https://localhost:8080/"
        },
        "id": "WQX7gIcNLVx8",
        "outputId": "5c8e2c5e-a167-42be-8858-a5d9d855627f"
      },
      "execution_count": null,
      "outputs": [
        {
          "output_type": "stream",
          "name": "stdout",
          "text": [
            "0        3.501219e-89\n",
            "1        8.953025e-84\n",
            "2       7.062115e-187\n",
            "3      -2.694751e-133\n",
            "4       3.374756e-204\n",
            "            ...      \n",
            "1030    1.015723e-171\n",
            "1031     8.623953e-87\n",
            "1032    6.465168e-179\n",
            "1033    7.524413e-101\n",
            "1034     7.950495e-82\n",
            "Length: 1035, dtype: float64\n",
            "0      -203.676962\n",
            "1      -191.225156\n",
            "2      -428.628668\n",
            "3              NaN\n",
            "4      -468.511036\n",
            "           ...    \n",
            "1030   -393.726450\n",
            "1031   -198.170360\n",
            "1032   -410.296303\n",
            "1033   -230.542942\n",
            "1034   -186.738743\n",
            "Length: 1035, dtype: float64\n"
          ]
        }
      ]
    },
    {
      "cell_type": "code",
      "source": [
        "row_products_0 = result0_firsthalf.prod(axis=1)\n",
        "print(row_products_0.apply(np.log))"
      ],
      "metadata": {
        "colab": {
          "base_uri": "https://localhost:8080/"
        },
        "id": "vFs2KIOfLrDA",
        "outputId": "e66667cf-90ef-4d0d-b00b-3c60ae2b8978"
      },
      "execution_count": null,
      "outputs": [
        {
          "output_type": "stream",
          "name": "stdout",
          "text": [
            "0      -inf\n",
            "1      -inf\n",
            "2      -inf\n",
            "3      -inf\n",
            "4      -inf\n",
            "       ... \n",
            "1030   -inf\n",
            "1031   -inf\n",
            "1032   -inf\n",
            "1033   -inf\n",
            "1034   -inf\n",
            "Length: 1035, dtype: float64\n"
          ]
        }
      ]
    },
    {
      "cell_type": "code",
      "source": [
        "def bernoulli_predictor(boolean_dxtest,pred0,pred1):\n",
        "  pred0_reverse = 1 - pred0\n",
        "  pred1_reverse = 1 - pred1\n",
        "  boolean_reverse = 1 - boolean_dxtest\n",
        "\n",
        "  result0_firsthalf = boolean_dxtest.mul(pred0, axis=1)\n",
        "  result0_secondhalf = boolean_reverse.mul(pred0_reverse, axis = 1)\n",
        "  prediction0 = (result0_firsthalf+result0_secondhalf).replace(0,10**(-12)).prod(axis=1).apply(np.log)\n",
        "  new_pred0 = prediction0 + np.log(0.71)\n",
        "\n",
        "  result1_firsthalf = boolean_dxtest.mul(pred1, axis=1)\n",
        "  result1_secondhalf = boolean_reverse.mul(pred1_reverse, axis = 1)\n",
        "  prediction1 = (result1_firsthalf+result1_secondhalf).replace(0,10**(-12)).prod(axis=1).apply(np.log)\n",
        "  new_pred1 = prediction1 + np.log(0.29)\n",
        "\n",
        "  compared_series = new_pred1.gt(new_pred0).astype(int)\n",
        "  return compared_series"
      ],
      "metadata": {
        "id": "nOg7wYtcKuqi"
      },
      "execution_count": null,
      "outputs": []
    },
    {
      "cell_type": "code",
      "source": [
        "trained_b = bernoulli_predictor(boolean_dxtest,pred0,pred1)"
      ],
      "metadata": {
        "id": "9YSle_XnQIaZ"
      },
      "execution_count": null,
      "outputs": []
    },
    {
      "cell_type": "code",
      "source": [
        "trained_b_df = trained_b.to_frame()"
      ],
      "metadata": {
        "id": "VC_6ht7dQfCk"
      },
      "execution_count": null,
      "outputs": []
    },
    {
      "cell_type": "code",
      "source": [
        "trained_b_df.eq(dytest.values).mean()"
      ],
      "metadata": {
        "colab": {
          "base_uri": "https://localhost:8080/"
        },
        "id": "2TkeO14kQTs-",
        "outputId": "ad720e48-5db0-4962-bdab-75a7e2eec01e"
      },
      "execution_count": null,
      "outputs": [
        {
          "output_type": "execute_result",
          "data": {
            "text/plain": [
              "0    0.887923\n",
              "dtype: float64"
            ]
          },
          "metadata": {},
          "execution_count": 45
        }
      ]
    },
    {
      "cell_type": "code",
      "source": [
        "dytest.rename(columns = {'Prediction':'actual y'}, inplace = True)\n",
        "print(dytest)"
      ],
      "metadata": {
        "colab": {
          "base_uri": "https://localhost:8080/"
        },
        "id": "lnNVpAWra9VP",
        "outputId": "a7be6657-813b-4203-9310-0dd623a43e13"
      },
      "execution_count": null,
      "outputs": [
        {
          "output_type": "stream",
          "name": "stdout",
          "text": [
            "      actual y\n",
            "0            0\n",
            "1            0\n",
            "2            0\n",
            "3            1\n",
            "4            0\n",
            "...        ...\n",
            "1030         1\n",
            "1031         0\n",
            "1032         1\n",
            "1033         0\n",
            "1034         1\n",
            "\n",
            "[1035 rows x 1 columns]\n"
          ]
        }
      ]
    },
    {
      "cell_type": "code",
      "source": [
        "trained_b_df.rename(columns = {0:'trained y'}, inplace = True)\n",
        "print(trained_y_df)"
      ],
      "metadata": {
        "colab": {
          "base_uri": "https://localhost:8080/"
        },
        "id": "HYtIs2mFbBoN",
        "outputId": "94fbdafc-15b2-4b24-faab-7230647d6c25"
      },
      "execution_count": null,
      "outputs": [
        {
          "output_type": "stream",
          "name": "stdout",
          "text": [
            "      trained y\n",
            "0             0\n",
            "1             0\n",
            "2             0\n",
            "3             1\n",
            "4             0\n",
            "...         ...\n",
            "1030          1\n",
            "1031          0\n",
            "1032          1\n",
            "1033          0\n",
            "1034          1\n",
            "\n",
            "[1035 rows x 1 columns]\n"
          ]
        }
      ]
    },
    {
      "cell_type": "code",
      "source": [
        "df_concat_b = pd.concat([dytest,trained_y_df], axis=1)\n",
        "confusion_matrix = pd.crosstab(df_concat_b['actual y'], df_concat_b['trained y'], rownames=['Actual'], colnames=['Predicted'])\n",
        "print(confusion_matrix)"
      ],
      "metadata": {
        "colab": {
          "base_uri": "https://localhost:8080/"
        },
        "id": "LKQGN0V4bOV3",
        "outputId": "6ed29415-9434-4218-ffc7-978bb9ef53e1"
      },
      "execution_count": null,
      "outputs": [
        {
          "output_type": "stream",
          "name": "stdout",
          "text": [
            "Predicted    0    1\n",
            "Actual             \n",
            "0          693   25\n",
            "1           18  299\n"
          ]
        }
      ]
    }
  ]
}