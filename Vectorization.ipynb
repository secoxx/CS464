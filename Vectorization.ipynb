{
  "nbformat": 4,
  "nbformat_minor": 0,
  "metadata": {
    "colab": {
      "provenance": [],
      "include_colab_link": true
    },
    "kernelspec": {
      "name": "python3",
      "display_name": "Python 3"
    },
    "language_info": {
      "name": "python"
    }
  },
  "cells": [
    {
      "cell_type": "markdown",
      "metadata": {
        "id": "view-in-github",
        "colab_type": "text"
      },
      "source": [
        "<a href=\"https://colab.research.google.com/github/secoxx/CS464/blob/main/Vectorization.ipynb\" target=\"_parent\"><img src=\"https://colab.research.google.com/assets/colab-badge.svg\" alt=\"Open In Colab\"/></a>"
      ]
    },
    {
      "cell_type": "code",
      "execution_count": null,
      "metadata": {
        "id": "TQMoW4p3dE0-",
        "colab": {
          "base_uri": "https://localhost:8080/"
        },
        "outputId": "17bc2faa-1fb2-4dda-a15e-c71c0bd301a6"
      },
      "outputs": [
        {
          "output_type": "stream",
          "name": "stdout",
          "text": [
            "Looking in indexes: https://pypi.org/simple, https://us-python.pkg.dev/colab-wheels/public/simple/\n",
            "Requirement already satisfied: transformers in /usr/local/lib/python3.9/dist-packages (4.28.1)\n",
            "Requirement already satisfied: filelock in /usr/local/lib/python3.9/dist-packages (from transformers) (3.11.0)\n",
            "Requirement already satisfied: tqdm>=4.27 in /usr/local/lib/python3.9/dist-packages (from transformers) (4.65.0)\n",
            "Requirement already satisfied: packaging>=20.0 in /usr/local/lib/python3.9/dist-packages (from transformers) (23.1)\n",
            "Requirement already satisfied: tokenizers!=0.11.3,<0.14,>=0.11.1 in /usr/local/lib/python3.9/dist-packages (from transformers) (0.13.3)\n",
            "Requirement already satisfied: regex!=2019.12.17 in /usr/local/lib/python3.9/dist-packages (from transformers) (2022.10.31)\n",
            "Requirement already satisfied: requests in /usr/local/lib/python3.9/dist-packages (from transformers) (2.27.1)\n",
            "Requirement already satisfied: huggingface-hub<1.0,>=0.11.0 in /usr/local/lib/python3.9/dist-packages (from transformers) (0.14.0)\n",
            "Requirement already satisfied: numpy>=1.17 in /usr/local/lib/python3.9/dist-packages (from transformers) (1.22.4)\n",
            "Requirement already satisfied: pyyaml>=5.1 in /usr/local/lib/python3.9/dist-packages (from transformers) (6.0)\n",
            "Requirement already satisfied: typing-extensions>=3.7.4.3 in /usr/local/lib/python3.9/dist-packages (from huggingface-hub<1.0,>=0.11.0->transformers) (4.5.0)\n",
            "Requirement already satisfied: fsspec in /usr/local/lib/python3.9/dist-packages (from huggingface-hub<1.0,>=0.11.0->transformers) (2023.4.0)\n",
            "Requirement already satisfied: idna<4,>=2.5 in /usr/local/lib/python3.9/dist-packages (from requests->transformers) (3.4)\n",
            "Requirement already satisfied: charset-normalizer~=2.0.0 in /usr/local/lib/python3.9/dist-packages (from requests->transformers) (2.0.12)\n",
            "Requirement already satisfied: certifi>=2017.4.17 in /usr/local/lib/python3.9/dist-packages (from requests->transformers) (2022.12.7)\n",
            "Requirement already satisfied: urllib3<1.27,>=1.21.1 in /usr/local/lib/python3.9/dist-packages (from requests->transformers) (1.26.15)\n"
          ]
        },
        {
          "output_type": "stream",
          "name": "stderr",
          "text": [
            "[nltk_data] Downloading package punkt to /root/nltk_data...\n",
            "[nltk_data]   Package punkt is already up-to-date!\n",
            "[nltk_data] Downloading package stopwords to /root/nltk_data...\n",
            "[nltk_data]   Package stopwords is already up-to-date!\n",
            "[nltk_data] Downloading package wordnet to /root/nltk_data...\n",
            "[nltk_data]   Package wordnet is already up-to-date!\n"
          ]
        },
        {
          "output_type": "stream",
          "name": "stdout",
          "text": [
            "Drive already mounted at /content/drive; to attempt to forcibly remount, call drive.mount(\"/content/drive\", force_remount=True).\n"
          ]
        }
      ],
      "source": [
        "!pip install transformers\n",
        "import numpy as np\n",
        "import math as math\n",
        "import pandas as pd\n",
        "import nltk\n",
        "from sklearn.model_selection import train_test_split\n",
        "from google.colab import drive\n",
        "from nltk.corpus import stopwords\n",
        "from nltk.tokenize import word_tokenize\n",
        "from nltk.stem import WordNetLemmatizer\n",
        "import string\n",
        "from sklearn.feature_extraction.text import CountVectorizer\n",
        "from sklearn.naive_bayes import MultinomialNB\n",
        "from sklearn.linear_model import LogisticRegression\n",
        "from sklearn.metrics import confusion_matrix\n",
        "import seaborn as sns\n",
        "import matplotlib.pyplot as plt\n",
        "from sklearn.metrics import precision_score, recall_score, f1_score\n",
        "from transformers import AutoTokenizer, AutoModel\n",
        "import torch\n",
        "from sklearn.svm import SVC\n",
        "\n",
        "\n",
        "nltk.download('punkt')\n",
        "nltk.download('stopwords')\n",
        "nltk.download('wordnet')\n",
        "\n",
        "drive.mount('/content/drive')"
      ]
    },
    {
      "cell_type": "markdown",
      "source": [
        "PRE-PROCESSING\n"
      ],
      "metadata": {
        "id": "ZaiUOlSusqDC"
      }
    },
    {
      "cell_type": "code",
      "source": [
        "data = pd.read_csv('/content/drive/MyDrive/Reviews.csv')\n",
        "data = data[:int(0.1 * len(data))]\n",
        "data = data[data['Score'] != 3]\n",
        "data['Sentiment'] = data['Score'].map({1: 'negative', 2: 'negative', 4: 'positive', 5: 'positive'})\n",
        "stop_words = set(stopwords.words('english'))\n",
        "lemmatizer = WordNetLemmatizer()\n",
        "\n",
        "def preprocess_review(review):\n",
        "  review = review.translate(str.maketrans('', '', string.punctuation))\n",
        "  review = review.lower()\n",
        "  words = word_tokenize(review)\n",
        "  words = [word for word in words if word not in stop_words]\n",
        "  words = [lemmatizer.lemmatize(word) for word in words]\n",
        "  review = ' '.join(words)\n",
        "  return review\n",
        "\n",
        "data['Text'] = data['Text'].apply(preprocess_review)\n",
        "data"
      ],
      "metadata": {
        "id": "S77RlUK2RcBL",
        "colab": {
          "base_uri": "https://localhost:8080/",
          "height": 1168
        },
        "outputId": "67dfa30a-b7c4-4a1f-c896-ca41f8230d99"
      },
      "execution_count": null,
      "outputs": [
        {
          "output_type": "execute_result",
          "data": {
            "text/plain": [
              "          Id   ProductId          UserId                      ProfileName  \\\n",
              "0          1  B001E4KFG0  A3SGXH7AUHU8GW                       delmartian   \n",
              "1          2  B00813GRG4  A1D87F6ZCVE5NK                           dll pa   \n",
              "2          3  B000LQOCH0   ABXLMWJIXXAIN  Natalia Corres \"Natalia Corres\"   \n",
              "3          4  B000UA0QIQ  A395BORC6FGVXV                             Karl   \n",
              "4          5  B006K2ZZ7K  A1UQRSCLF8GW1T    Michael D. Bigham \"M. Wassir\"   \n",
              "...      ...         ...             ...                              ...   \n",
              "56840  56841  B000GG0BNO  A2GTMNIXL0MDMC                 Kristine Johanek   \n",
              "56841  56842  B000GG0BNO   A70CKQ0ZITPIC                            Cbeee   \n",
              "56842  56843  B000GG0BNO  A1IN8OWQ76JMQR                      Mary Ferjan   \n",
              "56843  56844  B000C4MU9I  A1ZD3RIYJIBYLN           Sunny in the Northwest   \n",
              "56844  56845  B000C4MU9I   AG3FE9VP10WJJ                            Amber   \n",
              "\n",
              "       HelpfulnessNumerator  HelpfulnessDenominator  Score        Time  \\\n",
              "0                         1                       1      5  1303862400   \n",
              "1                         0                       0      1  1346976000   \n",
              "2                         1                       1      4  1219017600   \n",
              "3                         3                       3      2  1307923200   \n",
              "4                         0                       0      5  1350777600   \n",
              "...                     ...                     ...    ...         ...   \n",
              "56840                     0                       0      5  1318464000   \n",
              "56841                     0                       0      5  1315958400   \n",
              "56842                     0                       0      5  1299369600   \n",
              "56843                     9                       9      5  1189468800   \n",
              "56844                     1                       1      5  1330646400   \n",
              "\n",
              "                                              Summary  \\\n",
              "0                               Good Quality Dog Food   \n",
              "1                                   Not as Advertised   \n",
              "2                               \"Delight\" says it all   \n",
              "3                                      Cough Medicine   \n",
              "4                                         Great taffy   \n",
              "...                                               ...   \n",
              "56840                                   Delicious tea   \n",
              "56841                      I absolutely love this tea   \n",
              "56842  Best Mango tea I have tasted, smooth green tea   \n",
              "56843                                 Good chocolate.   \n",
              "56844                   Love love love this chocolate   \n",
              "\n",
              "                                                    Text Sentiment  \n",
              "0      bought several vitality canned dog food produc...  positive  \n",
              "1      product arrived labeled jumbo salted peanutsth...  negative  \n",
              "2      confection around century light pillowy citrus...  positive  \n",
              "3      looking secret ingredient robitussin believe f...  negative  \n",
              "4      great taffy great price wide assortment yummy ...  positive  \n",
              "...                                                  ...       ...  \n",
              "56840  mango green tea daughter favorite tea availabl...  positive  \n",
              "56841  current favorite tea add stevia sweeten bring ...  positive  \n",
              "56842  far best mango flavored tea tried bonus green ...  positive  \n",
              "56843  chocolate flavor shine bittersweet chocolate c...  positive  \n",
              "56844  love chocolate youve ever tried temper crappy ...  positive  \n",
              "\n",
              "[52335 rows x 11 columns]"
            ],
            "text/html": [
              "\n",
              "  <div id=\"df-371c3235-6d7f-467b-895f-ab800301c99d\">\n",
              "    <div class=\"colab-df-container\">\n",
              "      <div>\n",
              "<style scoped>\n",
              "    .dataframe tbody tr th:only-of-type {\n",
              "        vertical-align: middle;\n",
              "    }\n",
              "\n",
              "    .dataframe tbody tr th {\n",
              "        vertical-align: top;\n",
              "    }\n",
              "\n",
              "    .dataframe thead th {\n",
              "        text-align: right;\n",
              "    }\n",
              "</style>\n",
              "<table border=\"1\" class=\"dataframe\">\n",
              "  <thead>\n",
              "    <tr style=\"text-align: right;\">\n",
              "      <th></th>\n",
              "      <th>Id</th>\n",
              "      <th>ProductId</th>\n",
              "      <th>UserId</th>\n",
              "      <th>ProfileName</th>\n",
              "      <th>HelpfulnessNumerator</th>\n",
              "      <th>HelpfulnessDenominator</th>\n",
              "      <th>Score</th>\n",
              "      <th>Time</th>\n",
              "      <th>Summary</th>\n",
              "      <th>Text</th>\n",
              "      <th>Sentiment</th>\n",
              "    </tr>\n",
              "  </thead>\n",
              "  <tbody>\n",
              "    <tr>\n",
              "      <th>0</th>\n",
              "      <td>1</td>\n",
              "      <td>B001E4KFG0</td>\n",
              "      <td>A3SGXH7AUHU8GW</td>\n",
              "      <td>delmartian</td>\n",
              "      <td>1</td>\n",
              "      <td>1</td>\n",
              "      <td>5</td>\n",
              "      <td>1303862400</td>\n",
              "      <td>Good Quality Dog Food</td>\n",
              "      <td>bought several vitality canned dog food produc...</td>\n",
              "      <td>positive</td>\n",
              "    </tr>\n",
              "    <tr>\n",
              "      <th>1</th>\n",
              "      <td>2</td>\n",
              "      <td>B00813GRG4</td>\n",
              "      <td>A1D87F6ZCVE5NK</td>\n",
              "      <td>dll pa</td>\n",
              "      <td>0</td>\n",
              "      <td>0</td>\n",
              "      <td>1</td>\n",
              "      <td>1346976000</td>\n",
              "      <td>Not as Advertised</td>\n",
              "      <td>product arrived labeled jumbo salted peanutsth...</td>\n",
              "      <td>negative</td>\n",
              "    </tr>\n",
              "    <tr>\n",
              "      <th>2</th>\n",
              "      <td>3</td>\n",
              "      <td>B000LQOCH0</td>\n",
              "      <td>ABXLMWJIXXAIN</td>\n",
              "      <td>Natalia Corres \"Natalia Corres\"</td>\n",
              "      <td>1</td>\n",
              "      <td>1</td>\n",
              "      <td>4</td>\n",
              "      <td>1219017600</td>\n",
              "      <td>\"Delight\" says it all</td>\n",
              "      <td>confection around century light pillowy citrus...</td>\n",
              "      <td>positive</td>\n",
              "    </tr>\n",
              "    <tr>\n",
              "      <th>3</th>\n",
              "      <td>4</td>\n",
              "      <td>B000UA0QIQ</td>\n",
              "      <td>A395BORC6FGVXV</td>\n",
              "      <td>Karl</td>\n",
              "      <td>3</td>\n",
              "      <td>3</td>\n",
              "      <td>2</td>\n",
              "      <td>1307923200</td>\n",
              "      <td>Cough Medicine</td>\n",
              "      <td>looking secret ingredient robitussin believe f...</td>\n",
              "      <td>negative</td>\n",
              "    </tr>\n",
              "    <tr>\n",
              "      <th>4</th>\n",
              "      <td>5</td>\n",
              "      <td>B006K2ZZ7K</td>\n",
              "      <td>A1UQRSCLF8GW1T</td>\n",
              "      <td>Michael D. Bigham \"M. Wassir\"</td>\n",
              "      <td>0</td>\n",
              "      <td>0</td>\n",
              "      <td>5</td>\n",
              "      <td>1350777600</td>\n",
              "      <td>Great taffy</td>\n",
              "      <td>great taffy great price wide assortment yummy ...</td>\n",
              "      <td>positive</td>\n",
              "    </tr>\n",
              "    <tr>\n",
              "      <th>...</th>\n",
              "      <td>...</td>\n",
              "      <td>...</td>\n",
              "      <td>...</td>\n",
              "      <td>...</td>\n",
              "      <td>...</td>\n",
              "      <td>...</td>\n",
              "      <td>...</td>\n",
              "      <td>...</td>\n",
              "      <td>...</td>\n",
              "      <td>...</td>\n",
              "      <td>...</td>\n",
              "    </tr>\n",
              "    <tr>\n",
              "      <th>56840</th>\n",
              "      <td>56841</td>\n",
              "      <td>B000GG0BNO</td>\n",
              "      <td>A2GTMNIXL0MDMC</td>\n",
              "      <td>Kristine Johanek</td>\n",
              "      <td>0</td>\n",
              "      <td>0</td>\n",
              "      <td>5</td>\n",
              "      <td>1318464000</td>\n",
              "      <td>Delicious tea</td>\n",
              "      <td>mango green tea daughter favorite tea availabl...</td>\n",
              "      <td>positive</td>\n",
              "    </tr>\n",
              "    <tr>\n",
              "      <th>56841</th>\n",
              "      <td>56842</td>\n",
              "      <td>B000GG0BNO</td>\n",
              "      <td>A70CKQ0ZITPIC</td>\n",
              "      <td>Cbeee</td>\n",
              "      <td>0</td>\n",
              "      <td>0</td>\n",
              "      <td>5</td>\n",
              "      <td>1315958400</td>\n",
              "      <td>I absolutely love this tea</td>\n",
              "      <td>current favorite tea add stevia sweeten bring ...</td>\n",
              "      <td>positive</td>\n",
              "    </tr>\n",
              "    <tr>\n",
              "      <th>56842</th>\n",
              "      <td>56843</td>\n",
              "      <td>B000GG0BNO</td>\n",
              "      <td>A1IN8OWQ76JMQR</td>\n",
              "      <td>Mary Ferjan</td>\n",
              "      <td>0</td>\n",
              "      <td>0</td>\n",
              "      <td>5</td>\n",
              "      <td>1299369600</td>\n",
              "      <td>Best Mango tea I have tasted, smooth green tea</td>\n",
              "      <td>far best mango flavored tea tried bonus green ...</td>\n",
              "      <td>positive</td>\n",
              "    </tr>\n",
              "    <tr>\n",
              "      <th>56843</th>\n",
              "      <td>56844</td>\n",
              "      <td>B000C4MU9I</td>\n",
              "      <td>A1ZD3RIYJIBYLN</td>\n",
              "      <td>Sunny in the Northwest</td>\n",
              "      <td>9</td>\n",
              "      <td>9</td>\n",
              "      <td>5</td>\n",
              "      <td>1189468800</td>\n",
              "      <td>Good chocolate.</td>\n",
              "      <td>chocolate flavor shine bittersweet chocolate c...</td>\n",
              "      <td>positive</td>\n",
              "    </tr>\n",
              "    <tr>\n",
              "      <th>56844</th>\n",
              "      <td>56845</td>\n",
              "      <td>B000C4MU9I</td>\n",
              "      <td>AG3FE9VP10WJJ</td>\n",
              "      <td>Amber</td>\n",
              "      <td>1</td>\n",
              "      <td>1</td>\n",
              "      <td>5</td>\n",
              "      <td>1330646400</td>\n",
              "      <td>Love love love this chocolate</td>\n",
              "      <td>love chocolate youve ever tried temper crappy ...</td>\n",
              "      <td>positive</td>\n",
              "    </tr>\n",
              "  </tbody>\n",
              "</table>\n",
              "<p>52335 rows × 11 columns</p>\n",
              "</div>\n",
              "      <button class=\"colab-df-convert\" onclick=\"convertToInteractive('df-371c3235-6d7f-467b-895f-ab800301c99d')\"\n",
              "              title=\"Convert this dataframe to an interactive table.\"\n",
              "              style=\"display:none;\">\n",
              "        \n",
              "  <svg xmlns=\"http://www.w3.org/2000/svg\" height=\"24px\"viewBox=\"0 0 24 24\"\n",
              "       width=\"24px\">\n",
              "    <path d=\"M0 0h24v24H0V0z\" fill=\"none\"/>\n",
              "    <path d=\"M18.56 5.44l.94 2.06.94-2.06 2.06-.94-2.06-.94-.94-2.06-.94 2.06-2.06.94zm-11 1L8.5 8.5l.94-2.06 2.06-.94-2.06-.94L8.5 2.5l-.94 2.06-2.06.94zm10 10l.94 2.06.94-2.06 2.06-.94-2.06-.94-.94-2.06-.94 2.06-2.06.94z\"/><path d=\"M17.41 7.96l-1.37-1.37c-.4-.4-.92-.59-1.43-.59-.52 0-1.04.2-1.43.59L10.3 9.45l-7.72 7.72c-.78.78-.78 2.05 0 2.83L4 21.41c.39.39.9.59 1.41.59.51 0 1.02-.2 1.41-.59l7.78-7.78 2.81-2.81c.8-.78.8-2.07 0-2.86zM5.41 20L4 18.59l7.72-7.72 1.47 1.35L5.41 20z\"/>\n",
              "  </svg>\n",
              "      </button>\n",
              "      \n",
              "  <style>\n",
              "    .colab-df-container {\n",
              "      display:flex;\n",
              "      flex-wrap:wrap;\n",
              "      gap: 12px;\n",
              "    }\n",
              "\n",
              "    .colab-df-convert {\n",
              "      background-color: #E8F0FE;\n",
              "      border: none;\n",
              "      border-radius: 50%;\n",
              "      cursor: pointer;\n",
              "      display: none;\n",
              "      fill: #1967D2;\n",
              "      height: 32px;\n",
              "      padding: 0 0 0 0;\n",
              "      width: 32px;\n",
              "    }\n",
              "\n",
              "    .colab-df-convert:hover {\n",
              "      background-color: #E2EBFA;\n",
              "      box-shadow: 0px 1px 2px rgba(60, 64, 67, 0.3), 0px 1px 3px 1px rgba(60, 64, 67, 0.15);\n",
              "      fill: #174EA6;\n",
              "    }\n",
              "\n",
              "    [theme=dark] .colab-df-convert {\n",
              "      background-color: #3B4455;\n",
              "      fill: #D2E3FC;\n",
              "    }\n",
              "\n",
              "    [theme=dark] .colab-df-convert:hover {\n",
              "      background-color: #434B5C;\n",
              "      box-shadow: 0px 1px 3px 1px rgba(0, 0, 0, 0.15);\n",
              "      filter: drop-shadow(0px 1px 2px rgba(0, 0, 0, 0.3));\n",
              "      fill: #FFFFFF;\n",
              "    }\n",
              "  </style>\n",
              "\n",
              "      <script>\n",
              "        const buttonEl =\n",
              "          document.querySelector('#df-371c3235-6d7f-467b-895f-ab800301c99d button.colab-df-convert');\n",
              "        buttonEl.style.display =\n",
              "          google.colab.kernel.accessAllowed ? 'block' : 'none';\n",
              "\n",
              "        async function convertToInteractive(key) {\n",
              "          const element = document.querySelector('#df-371c3235-6d7f-467b-895f-ab800301c99d');\n",
              "          const dataTable =\n",
              "            await google.colab.kernel.invokeFunction('convertToInteractive',\n",
              "                                                     [key], {});\n",
              "          if (!dataTable) return;\n",
              "\n",
              "          const docLinkHtml = 'Like what you see? Visit the ' +\n",
              "            '<a target=\"_blank\" href=https://colab.research.google.com/notebooks/data_table.ipynb>data table notebook</a>'\n",
              "            + ' to learn more about interactive tables.';\n",
              "          element.innerHTML = '';\n",
              "          dataTable['output_type'] = 'display_data';\n",
              "          await google.colab.output.renderOutput(dataTable, element);\n",
              "          const docLink = document.createElement('div');\n",
              "          docLink.innerHTML = docLinkHtml;\n",
              "          element.appendChild(docLink);\n",
              "        }\n",
              "      </script>\n",
              "    </div>\n",
              "  </div>\n",
              "  "
            ]
          },
          "metadata": {},
          "execution_count": 49
        },
        {
          "output_type": "stream",
          "name": "stdout",
          "text": [
            "Warning: total number of rows (52335) exceeds max_rows (20000). Limiting to first (20000) rows.\n"
          ]
        }
      ]
    },
    {
      "cell_type": "markdown",
      "source": [
        "SPLITTING"
      ],
      "metadata": {
        "id": "rxcHDQP4uDgN"
      }
    },
    {
      "cell_type": "code",
      "source": [
        "data_train, data_test = train_test_split(\n",
        "    data, test_size=0.2, random_state=42)\n",
        "data_val, data_test = train_test_split(\n",
        "    data_test, test_size=0.5, random_state=42)\n",
        "\n",
        "print(f\"Training set size: {len(data_train)}\")\n",
        "print(f\"Validation set size: {len(data_val)}\")\n",
        "print(f\"Test set size: {len(data_test)}\")"
      ],
      "metadata": {
        "colab": {
          "base_uri": "https://localhost:8080/"
        },
        "id": "utLb1d258RVD",
        "outputId": "7eed3995-6aa3-4535-972a-dd174b842b5d"
      },
      "execution_count": null,
      "outputs": [
        {
          "output_type": "stream",
          "name": "stdout",
          "text": [
            "Training set size: 41868\n",
            "Validation set size: 5233\n",
            "Test set size: 5234\n"
          ]
        }
      ]
    },
    {
      "cell_type": "markdown",
      "source": [
        "VECTORIZATION (Bag of Words Approach)"
      ],
      "metadata": {
        "id": "Tv1f8WbCxcOe"
      }
    },
    {
      "cell_type": "code",
      "source": [
        "vectorizer = CountVectorizer()\n",
        "vectorizer.fit(data_train[\"Text\"])\n",
        "train_vectors = vectorizer.transform(data_train[\"Text\"])\n",
        "val_vectors = vectorizer.transform(data_val[\"Text\"])\n",
        "test_vectors = vectorizer.transform(data_test[\"Text\"])\n",
        "\n"
      ],
      "metadata": {
        "id": "sMI3-IOmwIg-"
      },
      "execution_count": null,
      "outputs": []
    },
    {
      "cell_type": "code",
      "source": [
        "train_labels = data_train['Sentiment']\n",
        "val_labels = data_val['Sentiment']\n",
        "test_labels = data_test['Sentiment']"
      ],
      "metadata": {
        "id": "QyQcXiy_ySy5"
      },
      "execution_count": null,
      "outputs": []
    },
    {
      "cell_type": "markdown",
      "source": [
        "FITTING THE MODEL"
      ],
      "metadata": {
        "id": "CGVd7Atby5Lm"
      }
    },
    {
      "cell_type": "code",
      "source": [
        "clf = MultinomialNB()\n",
        "clf.fit(train_vectors, train_labels)\n",
        "test_pred = clf.predict(test_vectors)\n",
        "accuracy = (test_pred == test_labels).mean()\n",
        "precision = precision_score(test_labels, test_pred, pos_label='positive')\n",
        "recall = recall_score(test_labels, test_pred, pos_label='positive')\n",
        "f1 = f1_score(test_labels, test_pred, pos_label='positive')\n",
        "\n",
        "print(f\"Accuracy on test set: {accuracy:.3f}\")\n",
        "print(\"Precision:\", precision)\n",
        "print(\"Recall:\", recall)\n",
        "print(\"F1-score:\", f1)\n",
        "\n",
        "\n",
        "cm = confusion_matrix(test_labels, test_pred)\n",
        "labels = [\"True Neg\", \"False Pos\", \"False Neg\", \"True Pos\"]\n",
        "sns.heatmap(cm, annot=True, cmap=\"Blues\", fmt=\"d\", xticklabels=labels, yticklabels=labels)\n",
        "plt.xlabel(\"Predicted label\")\n",
        "plt.ylabel(\"True label\")\n",
        "plt.show()"
      ],
      "metadata": {
        "colab": {
          "base_uri": "https://localhost:8080/",
          "height": 520
        },
        "id": "Cjm12_4fy4aY",
        "outputId": "1b4ddede-6850-4bc1-f6c4-3e8c4597bd8c"
      },
      "execution_count": null,
      "outputs": [
        {
          "output_type": "stream",
          "name": "stdout",
          "text": [
            "Accuracy on test set: 0.904\n",
            "Precision: 0.9156163212988677\n",
            "Recall: 0.975643068518097\n",
            "F1-score: 0.9446770994048932\n"
          ]
        },
        {
          "output_type": "display_data",
          "data": {
            "text/plain": [
              "<Figure size 640x480 with 2 Axes>"
            ],
            "image/png": "[encoded data removed]"
          },
          "metadata": {}
        }
      ]
    },
    {
      "cell_type": "code",
      "source": [
        "clf = LogisticRegression(max_iter=5000) # You can set other hyperparameters as well\n",
        "clf.fit(train_vectors, train_labels)\n",
        "test_pred = clf.predict(test_vectors)\n",
        "accuracy = (test_pred == test_labels).mean()\n",
        "precision = precision_score(test_labels, test_pred, pos_label='positive')\n",
        "recall = recall_score(test_labels, test_pred, pos_label='positive')\n",
        "f1 = f1_score(test_labels, test_pred, pos_label='positive')\n",
        "\n",
        "print(f\"Accuracy on test set: {accuracy:.3f}\")\n",
        "print(\"Precision:\", precision)\n",
        "print(\"Recall:\", recall)\n",
        "print(\"F1-score:\", f1)\n",
        "\n",
        "cm = confusion_matrix(test_labels, test_pred)\n",
        "labels = [\"True Neg\", \"False Pos\", \"False Neg\", \"True Pos\"]\n",
        "sns.heatmap(cm, annot=True, cmap=\"Blues\", fmt=\"d\", xticklabels=labels, yticklabels=labels)\n",
        "plt.xlabel(\"Predicted label\")\n",
        "plt.ylabel(\"True label\")\n",
        "plt.show()\n"
      ],
      "metadata": {
        "colab": {
          "base_uri": "https://localhost:8080/",
          "height": 520
        },
        "id": "yOHdm83E0O6Y",
        "outputId": "a9c63afd-8f9c-44f5-b212-2ce9b5d04424"
      },
      "execution_count": null,
      "outputs": [
        {
          "output_type": "stream",
          "name": "stdout",
          "text": [
            "Accuracy on test set: 0.918\n",
            "Precision: 0.940457676071984\n",
            "Recall: 0.9635784202139768\n",
            "F1-score: 0.9518776703395547\n"
          ]
        },
        {
          "output_type": "display_data",
          "data": {
            "text/plain": [
              "<Figure size 640x480 with 2 Axes>"
            ],
            "image/png": "[encoded data removed]"
          },
          "metadata": {}
        }
      ]
    },
    {
      "cell_type": "markdown",
      "source": [
        "Sentence Embeddings"
      ],
      "metadata": {
        "id": "YkJhKgk1zKio"
      }
    },
    {
      "cell_type": "code",
      "source": [
        "tokenizer = AutoTokenizer.from_pretrained('bert-base-uncased')\n",
        "model = AutoModel.from_pretrained('bert-base-uncased')\n",
        "\n",
        "def get_bert_embedding(text):\n",
        "    input_ids = tokenizer.encode(text, add_special_tokens=True, return_tensors='pt', truncation=True, max_length=512)\n",
        "    with torch.no_grad():\n",
        "      output = model(input_ids)\n",
        "    embeddings = output.pooler_output.cpu().numpy()\n",
        "    return embeddings\n",
        "\n",
        "data['embedding'] = data['Text'].apply(get_bert_embedding)\n",
        "\n",
        "train_data, test_data = train_test_split(data, test_size=0.2, random_state=42)\n",
        "\n",
        "train_embeddings = np.vstack(train_data['embedding'].to_numpy())\n",
        "train_labels = train_data['Sentiment'].to_numpy()\n",
        "test_embeddings = np.vstack(test_data['embedding'].to_numpy())\n",
        "test_labels = test_data['Sentiment'].to_numpy()\n",
        "\n",
        "svm_model = SVC(kernel='linear')\n",
        "svm_model.fit(train_embeddings, train_labels)\n",
        "\n",
        "# Evaluate SVM model on testing data\n",
        "accuracy = svm_model.score(test_embeddings, test_labels)\n",
        "precision = precision_score(test_labels, svm_model.predict(test_embeddings), average='macro')\n",
        "recall = recall_score(test_labels, svm_model.predict(test_embeddings), average='macro')\n",
        "print(f\"Accuracy: {accuracy}, Precision: {precision}, Recall: {recall}\")"
      ],
      "metadata": {
        "colab": {
          "base_uri": "https://localhost:8080/"
        },
        "id": "yBYrMdDeoxGB",
        "outputId": "86d2aeb0-9ba0-4388-bf3b-3e00793919ea"
      },
      "execution_count": null,
      "outputs": [
        {
          "output_type": "stream",
          "name": "stderr",
          "text": [
            "Some weights of the model checkpoint at bert-base-uncased were not used when initializing BertModel: ['cls.predictions.transform.dense.bias', 'cls.seq_relationship.weight', 'cls.predictions.decoder.weight', 'cls.predictions.transform.LayerNorm.weight', 'cls.predictions.bias', 'cls.seq_relationship.bias', 'cls.predictions.transform.dense.weight', 'cls.predictions.transform.LayerNorm.bias']\n",
            "- This IS expected if you are initializing BertModel from the checkpoint of a model trained on another task or with another architecture (e.g. initializing a BertForSequenceClassification model from a BertForPreTraining model).\n",
            "- This IS NOT expected if you are initializing BertModel from the checkpoint of a model that you expect to be exactly identical (initializing a BertForSequenceClassification model from a BertForSequenceClassification model).\n"
          ]
        }
      ]
    },
    {
      "cell_type": "code",
      "source": [
        "clf = LogisticRegression(max_iter=5000) # You can set other hyperparameters as well\n",
        "clf.fit(train_embeddings, train_labels)\n",
        "test_pred = clf.predict(test_vectors)\n",
        "accuracy = (test_pred == test_labels).mean()\n",
        "precision = precision_score(test_labels, test_pred, pos_label='positive')\n",
        "recall = recall_score(test_labels, test_pred, pos_label='positive')\n",
        "f1 = f1_score(test_labels, test_pred, pos_label='positive')\n",
        "\n",
        "print(f\"Accuracy on test set: {accuracy:.3f}\")\n",
        "print(\"Precision:\", precision)\n",
        "print(\"Recall:\", recall)\n",
        "print(\"F1-score:\", f1)"
      ],
      "metadata": {
        "colab": {
          "base_uri": "https://localhost:8080/",
          "height": 241
        },
        "id": "8rziImQ6P0Mh",
        "outputId": "fa26db75-a76c-4655-bc5c-09e64fc51fc0"
      },
      "execution_count": null,
      "outputs": [
        {
          "output_type": "error",
          "ename": "NameError",
          "evalue": "ignored",
          "traceback": [
            "\u001b[0;31m---------------------------------------------------------------------------\u001b[0m",
            "\u001b[0;31mNameError\u001b[0m                                 Traceback (most recent call last)",
            "\u001b[0;32m<ipython-input-46-2fa528e0f010>\u001b[0m in \u001b[0;36m<cell line: 2>\u001b[0;34m()\u001b[0m\n\u001b[1;32m      1\u001b[0m \u001b[0mclf\u001b[0m \u001b[0;34m=\u001b[0m \u001b[0mLogisticRegression\u001b[0m\u001b[0;34m(\u001b[0m\u001b[0mmax_iter\u001b[0m\u001b[0;34m=\u001b[0m\u001b[0;36m5000\u001b[0m\u001b[0;34m)\u001b[0m \u001b[0;31m# You can set other hyperparameters as well\u001b[0m\u001b[0;34m\u001b[0m\u001b[0;34m\u001b[0m\u001b[0m\n\u001b[0;32m----> 2\u001b[0;31m \u001b[0mclf\u001b[0m\u001b[0;34m.\u001b[0m\u001b[0mfit\u001b[0m\u001b[0;34m(\u001b[0m\u001b[0mtrain_embeddings\u001b[0m\u001b[0;34m,\u001b[0m \u001b[0mtrain_labels\u001b[0m\u001b[0;34m)\u001b[0m\u001b[0;34m\u001b[0m\u001b[0;34m\u001b[0m\u001b[0m\n\u001b[0m\u001b[1;32m      3\u001b[0m \u001b[0mtest_pred\u001b[0m \u001b[0;34m=\u001b[0m \u001b[0mclf\u001b[0m\u001b[0;34m.\u001b[0m\u001b[0mpredict\u001b[0m\u001b[0;34m(\u001b[0m\u001b[0mtest_vectors\u001b[0m\u001b[0;34m)\u001b[0m\u001b[0;34m\u001b[0m\u001b[0;34m\u001b[0m\u001b[0m\n\u001b[1;32m      4\u001b[0m \u001b[0maccuracy\u001b[0m \u001b[0;34m=\u001b[0m \u001b[0;34m(\u001b[0m\u001b[0mtest_pred\u001b[0m \u001b[0;34m==\u001b[0m \u001b[0mtest_labels\u001b[0m\u001b[0;34m)\u001b[0m\u001b[0;34m.\u001b[0m\u001b[0mmean\u001b[0m\u001b[0;34m(\u001b[0m\u001b[0;34m)\u001b[0m\u001b[0;34m\u001b[0m\u001b[0;34m\u001b[0m\u001b[0m\n\u001b[1;32m      5\u001b[0m \u001b[0mprecision\u001b[0m \u001b[0;34m=\u001b[0m \u001b[0mprecision_score\u001b[0m\u001b[0;34m(\u001b[0m\u001b[0mtest_labels\u001b[0m\u001b[0;34m,\u001b[0m \u001b[0mtest_pred\u001b[0m\u001b[0;34m,\u001b[0m \u001b[0mpos_label\u001b[0m\u001b[0;34m=\u001b[0m\u001b[0;34m'positive'\u001b[0m\u001b[0;34m)\u001b[0m\u001b[0;34m\u001b[0m\u001b[0;34m\u001b[0m\u001b[0m\n",
            "\u001b[0;31mNameError\u001b[0m: name 'train_embeddings' is not defined"
          ]
        }
      ]
    }
  ]
}